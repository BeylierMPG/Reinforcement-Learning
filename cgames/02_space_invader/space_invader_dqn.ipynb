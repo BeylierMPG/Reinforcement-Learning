{
 "cells": [
  {
   "cell_type": "markdown",
   "metadata": {
    "colab_type": "text",
    "id": "LN0nZwyMGadB"
   },
   "source": [
    "# Pong with dqn\n",
    "\n",
    "## Step 1: Import the libraries"
   ]
  },
  {
   "cell_type": "markdown",
   "metadata": {},
   "source": [
    " !!!!  To import all the games    !!!!!\n",
    "\n",
    "pip install --upgrade git+https://github.com/openai/gym\n",
    "pip install autorom\n",
    "\n",
    "AutoRom    \n",
    "\n",
    "pip install --upgrade gym[atari]\n",
    "\n"
   ]
  },
  {
   "cell_type": "code",
   "execution_count": 1,
   "metadata": {},
   "outputs": [
    {
     "name": "stderr",
     "output_type": "stream",
     "text": [
      "/opt/anaconda3/envs/atari1.0/lib/python3.7/site-packages/ale_py/roms/utils.py:90: DeprecationWarning: SelectableGroups dict interface is deprecated. Use select.\n",
      "  for external in metadata.entry_points().get(self.group, []):\n"
     ]
    }
   ],
   "source": [
    "import time\n",
    "import gym\n",
    "import random\n",
    "import torch\n",
    "import numpy as np\n",
    "from collections import deque\n",
    "import matplotlib.pyplot as plt\n",
    "import math\n",
    "\n"
   ]
  },
  {
   "cell_type": "code",
   "execution_count": 2,
   "metadata": {},
   "outputs": [],
   "source": [
    "from sklearn.manifold import Isomap\n",
    "\n",
    "\n",
    "# importing required libraries\n",
    "from mpl_toolkits.mplot3d import Axes3D\n",
    "import matplotlib.pyplot as plt"
   ]
  },
  {
   "cell_type": "code",
   "execution_count": 3,
   "metadata": {},
   "outputs": [],
   "source": [
    "import warnings\n",
    "from scipy.sparse import (spdiags, SparseEfficiencyWarning, csc_matrix,\n",
    "    csr_matrix, isspmatrix, dok_matrix, lil_matrix, bsr_matrix)\n",
    "warnings.simplefilter('ignore',SparseEfficiencyWarning)"
   ]
  },
  {
   "cell_type": "code",
   "execution_count": 4,
   "metadata": {
    "scrolled": true
   },
   "outputs": [],
   "source": [
    "from sklearn.datasets import load_iris\n",
    "from sklearn.decomposition import PCA, IncrementalPCA"
   ]
  },
  {
   "cell_type": "code",
   "execution_count": 5,
   "metadata": {},
   "outputs": [],
   "source": [
    "import sys\n",
    "sys.path.append('../../')\n",
    "from algos.agents.dqn_agent import DQNAgent\n",
    "from algos.models.dqn_cnn import DQNCnn\n",
    "from algos.preprocessing.stack_frame import preprocess_frame, stack_frame"
   ]
  },
  {
   "cell_type": "code",
   "execution_count": 6,
   "metadata": {},
   "outputs": [],
   "source": [
    "sys.path.append('../../')\n",
    "from MIND.src.mind import mind_ensemble"
   ]
  },
  {
   "cell_type": "markdown",
   "metadata": {
    "colab_type": "text",
    "id": "tfo8jleHGadK"
   },
   "source": [
    "## Step 2: Create our environment\n",
    "\n",
    "Initialize the environment in the code cell below.\n"
   ]
  },
  {
   "cell_type": "code",
   "execution_count": 7,
   "metadata": {},
   "outputs": [
    {
     "name": "stderr",
     "output_type": "stream",
     "text": [
      "A.L.E: Arcade Learning Environment (version +978d2ce)\n",
      "[Powered by Stella]\n"
     ]
    },
    {
     "data": {
      "text/plain": [
       "(0, 592379725)"
      ]
     },
     "execution_count": 7,
     "metadata": {},
     "output_type": "execute_result"
    }
   ],
   "source": [
    "env = gym.make('SpaceInvaders-v0',render_mode='human')\n",
    "\n",
    "env.seed(0)"
   ]
  },
  {
   "cell_type": "code",
   "execution_count": 8,
   "metadata": {},
   "outputs": [
    {
     "name": "stdout",
     "output_type": "stream",
     "text": [
      "Device:  cpu\n"
     ]
    }
   ],
   "source": [
    "# if gpu is to be used\n",
    "device = torch.device(\"cuda\" if torch.cuda.is_available() else \"cpu\")\n",
    "print(\"Device: \", device)"
   ]
  },
  {
   "cell_type": "markdown",
   "metadata": {
    "colab_type": "text",
    "id": "nS221MgXGadP"
   },
   "source": [
    "## Step 3: Viewing our Enviroment"
   ]
  },
  {
   "cell_type": "code",
   "execution_count": 9,
   "metadata": {},
   "outputs": [
    {
     "name": "stdout",
     "output_type": "stream",
     "text": [
      "The size of frame is:  (210, 160, 3)\n",
      "No. of Actions:  6\n",
      "(160, 3)\n"
     ]
    },
    {
     "data": {
      "image/png": "[encoded data removed]",
      "text/plain": [
       "<Figure size 432x288 with 1 Axes>"
      ]
     },
     "metadata": {
      "needs_background": "light"
     },
     "output_type": "display_data"
    },
    {
     "data": {
      "image/png": "[encoded data removed]",
      "text/plain": [
       "<Figure size 432x288 with 1 Axes>"
      ]
     },
     "metadata": {
      "needs_background": "light"
     },
     "output_type": "display_data"
    }
   ],
   "source": [
    "print(\"The size of frame is: \", env.observation_space.shape)\n",
    "print(\"No. of Actions: \", env.action_space.n)\n",
    "env.reset()\n",
    "print(env.reset()[1:5][:][0].shape)\n",
    "#print(env.reset()[1:5][:][0])\n",
    "plt.figure()\n",
    "plt.imshow(env.reset())\n",
    "plt.figure()\n",
    "plt.imshow(env.reset()[180:210,:,2])\n",
    "plt.title('Original Frame')\n",
    "plt.show()"
   ]
  },
  {
   "cell_type": "markdown",
   "metadata": {},
   "source": [
    "### Execute the code cell below to play Pong with a random policy."
   ]
  },
  {
   "cell_type": "markdown",
   "metadata": {},
   "source": [
    "def random_play():\n",
    "    score = 0\n",
    "    env.reset()\n",
    "    while True:\n",
    "        env.render()\n",
    "        action = env.action_space.sample()\n",
    "        state, reward, done, _ = env.step(action)\n",
    "        score += reward\n",
    "        if done:\n",
    "            env.close()\n",
    "            print(\"Your Score at end of game is: \", score)\n",
    "            break\n",
    "random_play()"
   ]
  },
  {
   "cell_type": "markdown",
   "metadata": {
    "colab_type": "text",
    "id": "Sr52nmcpGada"
   },
   "source": [
    "## Step 4:Preprocessing Frame"
   ]
  },
  {
   "cell_type": "code",
   "execution_count": 11,
   "metadata": {},
   "outputs": [
    {
     "data": {
      "image/png": "[encoded data removed]",
      "text/plain": [
       "<Figure size 432x288 with 1 Axes>"
      ]
     },
     "metadata": {
      "needs_background": "light"
     },
     "output_type": "display_data"
    }
   ],
   "source": [
    "env.reset()\n",
    "plt.figure()\n",
    "plt.imshow(preprocess_frame(env.reset(), (8, -12, -12, 4), 84), cmap=\"gray\")\n",
    "plt.title('Pre Processed image')\n",
    "plt.show()"
   ]
  },
  {
   "cell_type": "markdown",
   "metadata": {
    "colab_type": "text",
    "id": "mJMc3HA8Gade"
   },
   "source": [
    "## Step 5: Stacking Frame"
   ]
  },
  {
   "cell_type": "code",
   "execution_count": 12,
   "metadata": {},
   "outputs": [],
   "source": [
    "def stack_frames(frames, state, is_new=False):\n",
    "    frame = preprocess_frame(state, (8, -12, -12, 4), 84)\n",
    "    frames = stack_frame(frames, frame, is_new)\n",
    "\n",
    "    return frames\n",
    "    "
   ]
  },
  {
   "cell_type": "markdown",
   "metadata": {},
   "source": [
    "## Step 6: Creating our Agent"
   ]
  },
  {
   "cell_type": "code",
   "execution_count": 13,
   "metadata": {},
   "outputs": [],
   "source": [
    "INPUT_SHAPE = (4, 84, 84)\n",
    "ACTION_SIZE = env.action_space.n\n",
    "SEED = 0\n",
    "GAMMA = 0.99           # discount factor\n",
    "BUFFER_SIZE = 100000   # replay buffer size\n",
    "BATCH_SIZE = 64        # Update batch size\n",
    "LR = 0.01            # learning rate \n",
    "TAU = 1e-3             # for soft update of target parameters\n",
    "UPDATE_EVERY = 1       # how often to update the network\n",
    "UPDATE_TARGET = 10000  # After which thershold replay to be started \n",
    "EPS_START = 0.99       # starting value of epsilon\n",
    "EPS_END = 0.01         # Ending value of epsilon\n",
    "EPS_DECAY = 100         # Rate by which epsilon to be decayed\n",
    "\n",
    "agent = DQNAgent(INPUT_SHAPE, ACTION_SIZE, SEED, device, BUFFER_SIZE, BATCH_SIZE, GAMMA, LR, TAU, UPDATE_EVERY, UPDATE_TARGET, DQNCnn)"
   ]
  },
  {
   "cell_type": "code",
   "execution_count": 14,
   "metadata": {},
   "outputs": [
    {
     "name": "stdout",
     "output_type": "stream",
     "text": [
      "6\n"
     ]
    }
   ],
   "source": [
    "print(env.action_space.n)"
   ]
  },
  {
   "cell_type": "markdown",
   "metadata": {},
   "source": [
    "## Step 7: Watching untrained agent play"
   ]
  },
  {
   "cell_type": "markdown",
   "metadata": {},
   "source": [
    "\n",
    "# watch an untrained agent\n",
    "state = stack_frames(None, env.reset(), True) \n",
    "for j in range(200):\n",
    "    env.render()\n",
    "    action = agent.act(state)\n",
    "    next_state, reward, done, _ = env.step(action)\n",
    "    state = stack_frames(state, next_state, False)\n",
    "    if done:\n",
    "        break \n",
    "        \n",
    "env.close()"
   ]
  },
  {
   "cell_type": "markdown",
   "metadata": {},
   "source": [
    "## Step 8: Loading Agent\n",
    "Uncomment line to load a pretrained agent"
   ]
  },
  {
   "cell_type": "code",
   "execution_count": 15,
   "metadata": {},
   "outputs": [],
   "source": [
    "start_epoch = 0\n",
    "scores = []\n",
    "scores_window = deque(maxlen=20)"
   ]
  },
  {
   "cell_type": "markdown",
   "metadata": {},
   "source": [
    "## Step 9: Train the Agent with DQN"
   ]
  },
  {
   "cell_type": "code",
   "execution_count": 16,
   "metadata": {},
   "outputs": [
    {
     "data": {
      "text/plain": [
       "[<matplotlib.lines.Line2D at 0x7febb9307650>]"
      ]
     },
     "execution_count": 16,
     "metadata": {},
     "output_type": "execute_result"
    },
    {
     "data": {
      "image/png": "[encoded data removed]",
      "text/plain": [
       "<Figure size 432x288 with 1 Axes>"
      ]
     },
     "metadata": {
      "needs_background": "light"
     },
     "output_type": "display_data"
    }
   ],
   "source": [
    "epsilon_by_epsiode = lambda frame_idx: EPS_END + (EPS_START - EPS_END) * math.exp(-1. * frame_idx /EPS_DECAY)\n",
    "\n",
    "plt.plot([epsilon_by_epsiode(i) for i in range(1000)])"
   ]
  },
  {
   "cell_type": "code",
   "execution_count": 17,
   "metadata": {},
   "outputs": [],
   "source": [
    "def train(n_episodes=1000):\n",
    "    \"\"\"\n",
    "    Params\n",
    "    ======\n",
    "        n_episodes (int): maximum number of training episodes\n",
    "    \"\"\"\n",
    "    for i_episode in range(start_epoch + 1, n_episodes+1):\n",
    "        state = stack_frames(None, env.reset(), True)\n",
    "        score = 0\n",
    "        eps = epsilon_by_epsiode(i_episode)\n",
    "        while True:\n",
    "            action = agent.act(state, eps)\n",
    "            next_state, reward, done, info = env.step(action)\n",
    "            score += reward\n",
    "            next_state = stack_frames(state, next_state, False)\n",
    "            agent.step(state, action, reward, next_state, done)\n",
    "            state = next_state\n",
    "            if done:\n",
    "                break\n",
    "        scores_window.append(score)       # save most recent score\n",
    "        scores.append(score)              # save most recent score\n",
    "        print('\\rEpisode {}\\tAverage Score: {:.2f}'.format(i_episode, np.mean(scores_window)), end=\"\")\n",
    "        \n",
    "        if i_episode % 100 == 0:\n",
    "            print('\\rEpisode {}\\tAverage Score: {:.2f}'.format(i_episode, np.mean(scores_window)))\n",
    "            fig = plt.figure()\n",
    "            ax = fig.add_subplot(111)\n",
    "            plt.plot(np.arange(len(scores)), scores)\n",
    "            plt.ylabel('Score')\n",
    "            plt.xlabel('Episode #')\n",
    "            plt.show()\n",
    "    \n",
    "    return scores"
   ]
  },
  {
   "cell_type": "code",
   "execution_count": 18,
   "metadata": {},
   "outputs": [
    {
     "name": "stderr",
     "output_type": "stream",
     "text": [
      "[W NNPACK.cpp:80] Could not initialize NNPACK! Reason: Unsupported hardware.\n"
     ]
    },
    {
     "name": "stdout",
     "output_type": "stream",
     "text": [
      "torch.Size([1, 64, 7, 7])\n",
      "1\n",
      "torch.Size([1, 3136])\n",
      "torch.Size([1, 64, 7, 7])\n",
      "1\n",
      "torch.Size([1, 3136])\n",
      "torch.Size([1, 64, 7, 7])\n",
      "1\n",
      "torch.Size([1, 3136])\n",
      "torch.Size([1, 64, 7, 7])\n",
      "1\n",
      "torch.Size([1, 3136])\n",
      "torch.Size([1, 64, 7, 7])\n",
      "1\n",
      "torch.Size([1, 3136])\n",
      "torch.Size([1, 64, 7, 7])\n",
      "1\n",
      "torch.Size([1, 3136])\n",
      "torch.Size([1, 64, 7, 7])\n",
      "1\n",
      "torch.Size([1, 3136])\n",
      "torch.Size([1, 64, 7, 7])\n",
      "1\n",
      "torch.Size([1, 3136])\n",
      "torch.Size([1, 64, 7, 7])\n",
      "1\n",
      "torch.Size([1, 3136])\n",
      "torch.Size([1, 64, 7, 7])\n",
      "1\n",
      "torch.Size([1, 3136])\n",
      "torch.Size([1, 64, 7, 7])\n",
      "1\n",
      "torch.Size([1, 3136])\n",
      "torch.Size([1, 64, 7, 7])\n",
      "1\n",
      "torch.Size([1, 3136])\n",
      "torch.Size([1, 64, 7, 7])\n",
      "1\n",
      "torch.Size([1, 3136])\n",
      "torch.Size([1, 64, 7, 7])\n",
      "1\n",
      "torch.Size([1, 3136])\n",
      "torch.Size([1, 64, 7, 7])\n",
      "1\n",
      "torch.Size([1, 3136])\n",
      "torch.Size([1, 64, 7, 7])\n",
      "1\n",
      "torch.Size([1, 3136])\n",
      "torch.Size([1, 64, 7, 7])\n",
      "1\n",
      "torch.Size([1, 3136])\n",
      "torch.Size([1, 64, 7, 7])\n",
      "1\n",
      "torch.Size([1, 3136])\n",
      "torch.Size([1, 64, 7, 7])\n",
      "1\n",
      "torch.Size([1, 3136])\n",
      "torch.Size([1, 64, 7, 7])\n",
      "1\n",
      "torch.Size([1, 3136])\n",
      "torch.Size([1, 64, 7, 7])\n",
      "1\n",
      "torch.Size([1, 3136])\n",
      "torch.Size([1, 64, 7, 7])\n",
      "1\n",
      "torch.Size([1, 3136])\n",
      "torch.Size([1, 64, 7, 7])\n",
      "1\n",
      "torch.Size([1, 3136])\n",
      "torch.Size([1, 64, 7, 7])\n",
      "1\n",
      "torch.Size([1, 3136])\n",
      "torch.Size([1, 64, 7, 7])\n",
      "1\n",
      "torch.Size([1, 3136])\n",
      "torch.Size([1, 64, 7, 7])\n",
      "1\n",
      "torch.Size([1, 3136])\n",
      "torch.Size([1, 64, 7, 7])\n",
      "1\n",
      "torch.Size([1, 3136])\n",
      "torch.Size([1, 64, 7, 7])\n",
      "1\n",
      "torch.Size([1, 3136])\n",
      "torch.Size([1, 64, 7, 7])\n",
      "1\n",
      "torch.Size([1, 3136])\n",
      "torch.Size([1, 64, 7, 7])\n",
      "1\n",
      "torch.Size([1, 3136])\n",
      "torch.Size([1, 64, 7, 7])\n",
      "1\n",
      "torch.Size([1, 3136])\n",
      "torch.Size([1, 64, 7, 7])\n",
      "1\n",
      "torch.Size([1, 3136])\n",
      "torch.Size([1, 64, 7, 7])\n",
      "1\n",
      "torch.Size([1, 3136])\n"
     ]
    },
    {
     "ename": "KeyboardInterrupt",
     "evalue": "",
     "output_type": "error",
     "traceback": [
      "\u001b[0;31m---------------------------------------------------------------------------\u001b[0m",
      "\u001b[0;31mKeyboardInterrupt\u001b[0m                         Traceback (most recent call last)",
      "\u001b[0;32m/var/folders/pl/cllhhs1s23700mfqjt1z6tkr0000gn/T/ipykernel_8056/4153889431.py\u001b[0m in \u001b[0;36m<module>\u001b[0;34m\u001b[0m\n\u001b[0;32m----> 1\u001b[0;31m \u001b[0mscores\u001b[0m \u001b[0;34m=\u001b[0m \u001b[0mtrain\u001b[0m\u001b[0;34m(\u001b[0m\u001b[0;36m15\u001b[0m\u001b[0;34m)\u001b[0m\u001b[0;34m\u001b[0m\u001b[0;34m\u001b[0m\u001b[0m\n\u001b[0m",
      "\u001b[0;32m/var/folders/pl/cllhhs1s23700mfqjt1z6tkr0000gn/T/ipykernel_8056/2369026410.py\u001b[0m in \u001b[0;36mtrain\u001b[0;34m(n_episodes)\u001b[0m\n\u001b[1;32m     11\u001b[0m         \u001b[0;32mwhile\u001b[0m \u001b[0;32mTrue\u001b[0m\u001b[0;34m:\u001b[0m\u001b[0;34m\u001b[0m\u001b[0;34m\u001b[0m\u001b[0m\n\u001b[1;32m     12\u001b[0m             \u001b[0maction\u001b[0m \u001b[0;34m=\u001b[0m \u001b[0magent\u001b[0m\u001b[0;34m.\u001b[0m\u001b[0mact\u001b[0m\u001b[0;34m(\u001b[0m\u001b[0mstate\u001b[0m\u001b[0;34m,\u001b[0m \u001b[0meps\u001b[0m\u001b[0;34m)\u001b[0m\u001b[0;34m\u001b[0m\u001b[0;34m\u001b[0m\u001b[0m\n\u001b[0;32m---> 13\u001b[0;31m             \u001b[0mnext_state\u001b[0m\u001b[0;34m,\u001b[0m \u001b[0mreward\u001b[0m\u001b[0;34m,\u001b[0m \u001b[0mdone\u001b[0m\u001b[0;34m,\u001b[0m \u001b[0minfo\u001b[0m \u001b[0;34m=\u001b[0m \u001b[0menv\u001b[0m\u001b[0;34m.\u001b[0m\u001b[0mstep\u001b[0m\u001b[0;34m(\u001b[0m\u001b[0maction\u001b[0m\u001b[0;34m)\u001b[0m\u001b[0;34m\u001b[0m\u001b[0;34m\u001b[0m\u001b[0m\n\u001b[0m\u001b[1;32m     14\u001b[0m             \u001b[0mscore\u001b[0m \u001b[0;34m+=\u001b[0m \u001b[0mreward\u001b[0m\u001b[0;34m\u001b[0m\u001b[0;34m\u001b[0m\u001b[0m\n\u001b[1;32m     15\u001b[0m             \u001b[0mnext_state\u001b[0m \u001b[0;34m=\u001b[0m \u001b[0mstack_frames\u001b[0m\u001b[0;34m(\u001b[0m\u001b[0mstate\u001b[0m\u001b[0;34m,\u001b[0m \u001b[0mnext_state\u001b[0m\u001b[0;34m,\u001b[0m \u001b[0;32mFalse\u001b[0m\u001b[0;34m)\u001b[0m\u001b[0;34m\u001b[0m\u001b[0;34m\u001b[0m\u001b[0m\n",
      "\u001b[0;32m/opt/anaconda3/envs/atari1.0/lib/python3.7/site-packages/gym/wrappers/time_limit.py\u001b[0m in \u001b[0;36mstep\u001b[0;34m(self, action)\u001b[0m\n\u001b[1;32m     16\u001b[0m             \u001b[0mself\u001b[0m\u001b[0;34m.\u001b[0m\u001b[0m_elapsed_steps\u001b[0m \u001b[0;32mis\u001b[0m \u001b[0;32mnot\u001b[0m \u001b[0;32mNone\u001b[0m\u001b[0;34m\u001b[0m\u001b[0;34m\u001b[0m\u001b[0m\n\u001b[1;32m     17\u001b[0m         ), \"Cannot call env.step() before calling reset()\"\n\u001b[0;32m---> 18\u001b[0;31m         \u001b[0mobservation\u001b[0m\u001b[0;34m,\u001b[0m \u001b[0mreward\u001b[0m\u001b[0;34m,\u001b[0m \u001b[0mdone\u001b[0m\u001b[0;34m,\u001b[0m \u001b[0minfo\u001b[0m \u001b[0;34m=\u001b[0m \u001b[0mself\u001b[0m\u001b[0;34m.\u001b[0m\u001b[0menv\u001b[0m\u001b[0;34m.\u001b[0m\u001b[0mstep\u001b[0m\u001b[0;34m(\u001b[0m\u001b[0maction\u001b[0m\u001b[0;34m)\u001b[0m\u001b[0;34m\u001b[0m\u001b[0;34m\u001b[0m\u001b[0m\n\u001b[0m\u001b[1;32m     19\u001b[0m         \u001b[0mself\u001b[0m\u001b[0;34m.\u001b[0m\u001b[0m_elapsed_steps\u001b[0m \u001b[0;34m+=\u001b[0m \u001b[0;36m1\u001b[0m\u001b[0;34m\u001b[0m\u001b[0;34m\u001b[0m\u001b[0m\n\u001b[1;32m     20\u001b[0m         \u001b[0;32mif\u001b[0m \u001b[0mself\u001b[0m\u001b[0;34m.\u001b[0m\u001b[0m_elapsed_steps\u001b[0m \u001b[0;34m>=\u001b[0m \u001b[0mself\u001b[0m\u001b[0;34m.\u001b[0m\u001b[0m_max_episode_steps\u001b[0m\u001b[0;34m:\u001b[0m\u001b[0;34m\u001b[0m\u001b[0;34m\u001b[0m\u001b[0m\n",
      "\u001b[0;32m/opt/anaconda3/envs/atari1.0/lib/python3.7/site-packages/gym/envs/atari/environment.py\u001b[0m in \u001b[0;36mstep\u001b[0;34m(self, action_ind)\u001b[0m\n\u001b[1;32m    221\u001b[0m         \u001b[0mreward\u001b[0m \u001b[0;34m=\u001b[0m \u001b[0;36m0.0\u001b[0m\u001b[0;34m\u001b[0m\u001b[0;34m\u001b[0m\u001b[0m\n\u001b[1;32m    222\u001b[0m         \u001b[0;32mfor\u001b[0m \u001b[0m_\u001b[0m \u001b[0;32min\u001b[0m \u001b[0mrange\u001b[0m\u001b[0;34m(\u001b[0m\u001b[0mframeskip\u001b[0m\u001b[0;34m)\u001b[0m\u001b[0;34m:\u001b[0m\u001b[0;34m\u001b[0m\u001b[0;34m\u001b[0m\u001b[0m\n\u001b[0;32m--> 223\u001b[0;31m             \u001b[0mreward\u001b[0m \u001b[0;34m+=\u001b[0m \u001b[0mself\u001b[0m\u001b[0;34m.\u001b[0m\u001b[0male\u001b[0m\u001b[0;34m.\u001b[0m\u001b[0mact\u001b[0m\u001b[0;34m(\u001b[0m\u001b[0maction\u001b[0m\u001b[0;34m)\u001b[0m\u001b[0;34m\u001b[0m\u001b[0;34m\u001b[0m\u001b[0m\n\u001b[0m\u001b[1;32m    224\u001b[0m \u001b[0;34m\u001b[0m\u001b[0m\n\u001b[1;32m    225\u001b[0m         \u001b[0;31m# Render rgb array\u001b[0m\u001b[0;34m\u001b[0m\u001b[0;34m\u001b[0m\u001b[0;34m\u001b[0m\u001b[0m\n",
      "\u001b[0;31mKeyboardInterrupt\u001b[0m: "
     ]
    }
   ],
   "source": [
    "scores = train(15)"
   ]
  },
  {
   "cell_type": "markdown",
   "metadata": {},
   "source": [
    "## Step 10: Watch a Smart Agent!"
   ]
  },
  {
   "cell_type": "code",
   "execution_count": null,
   "metadata": {
    "scrolled": true,
    "tags": []
   },
   "outputs": [],
   "source": [
    "Names_hook = [\"fc1\",\"Conv_1\",\"Conv_2\",\"Conv_3\"]\n",
    "Liste_activation = [[] for i in range(len(Names_hook))]\n",
    "agent.registration()\n",
    "score = 0\n",
    "i = 0\n",
    "state = stack_frames(None, env.reset(), True)\n",
    "while True:\n",
    "    env.render()\n",
    "    action = agent.act(state)\n",
    "\n",
    "    for h in range(len(Names_hook)):\n",
    "        Liste_activation[h].append(torch.flatten(agent.activation[Names_hook[h]]).unsqueeze(0)) \n",
    "    \n",
    "    next_state, reward, done, _ = env.step(action)\n",
    "    score += reward\n",
    "    \n",
    "    state = stack_frames(state, next_state, False)\n",
    "\n",
    "    \n",
    "    i +=1\n",
    "    if done:\n",
    "        print(\"You Final score is:\", score)\n",
    "        print(i)\n",
    "        break \n",
    "env.close()\n",
    "\n",
    "\n",
    "agent.detach()\n",
    "\n",
    "print(\"Shape liste fc1\",len(Liste_activation[0]),len(Liste_activation[0][0][0]))\n",
    "print(\"Shape liste conv\",len(Liste_activation[2]),len(Liste_activation[2][0][0]))\n"
   ]
  },
  {
   "cell_type": "markdown",
   "metadata": {},
   "source": [
    "## Step 11: Create the activation Liste"
   ]
  },
  {
   "cell_type": "markdown",
   "metadata": {},
   "source": [
    "L_activation =torch.zeros([len(Liste_activation), 512], dtype=torch.float64)\n",
    "Liste = Liste_activation[0]\n",
    "\n",
    "for i in range(1,len(Liste_activation)):\n",
    "    Liste = torch.cat((Liste,Liste_activation[i]),0)\n",
    "\n",
    "Activations = Liste.cpu().detach().numpy()\n",
    "\n",
    "print(Activations.shape)"
   ]
  },
  {
   "cell_type": "markdown",
   "metadata": {},
   "source": [
    "## Activation list for convolution layer"
   ]
  },
  {
   "cell_type": "code",
   "execution_count": null,
   "metadata": {},
   "outputs": [],
   "source": [
    "LAYER = 0"
   ]
  },
  {
   "cell_type": "code",
   "execution_count": null,
   "metadata": {},
   "outputs": [],
   "source": [
    "\n",
    "Liste = Liste_activation[LAYER][0]\n",
    "\n",
    "for i in range(1,len(Liste_activation[LAYER])):\n",
    "    Liste = torch.cat((Liste,Liste_activation[LAYER][i]),0)\n",
    "\n",
    "Activations = Liste.cpu().detach().numpy()\n",
    "\n",
    "print(Activations.shape)"
   ]
  },
  {
   "cell_type": "code",
   "execution_count": null,
   "metadata": {},
   "outputs": [],
   "source": [
    "embedding = Isomap(n_neighbors=12,n_components=3)\n",
    "for h in range(len(Names_hook)):\n",
    "    \n",
    "    Liste = Liste_activation[h][0]\n",
    "\n",
    "    for i in range(1,len(Liste_activation[h])):\n",
    "        Liste = torch.cat((Liste,Liste_activation[h][i]),0)\n",
    "    Activations = Liste.cpu().detach().numpy()\n",
    "    print(Activations.shape)\n",
    "    X = embedding.fit_transform(Activations)\n",
    "    print(X.shape)\n",
    "    colorize = dict(c=X[:, 0], cmap=plt.cm.get_cmap('rainbow', 7))\n",
    "    fig = plt.figure()\n",
    "    ax = plt.figure().add_subplot(projection='3d')\n",
    "    sc = ax.scatter3D(X[:, 0], X[:, 1], X[:, 2],\n",
    "                 **colorize)\n",
    "    ax.view_init(azim=120, elev=30)\n",
    "    plt.colorbar(sc)\n",
    "\n",
    "\n",
    "\n",
    "\n"
   ]
  },
  {
   "cell_type": "markdown",
   "metadata": {},
   "source": [
    "## Step 12: ISOMAP"
   ]
  },
  {
   "cell_type": "code",
   "execution_count": null,
   "metadata": {},
   "outputs": [],
   "source": [
    "embedding = Isomap(n_neighbors=12,n_components=3)"
   ]
  },
  {
   "cell_type": "code",
   "execution_count": null,
   "metadata": {
    "scrolled": true
   },
   "outputs": [],
   "source": [
    "X_conv= embedding.fit_transform(Activations_conv)\n",
    "print(X_conv.shape)\n",
    "colorize = dict(c=X_conv[:, 0], cmap=plt.cm.get_cmap('rainbow', 7))"
   ]
  },
  {
   "cell_type": "code",
   "execution_count": null,
   "metadata": {},
   "outputs": [],
   "source": [
    "X_fc1 = embedding.fit_transform(Activations_fc1)\n",
    "print(X_fc1.shape)\n",
    "colorize = dict(c=X_fc1[:, 0], cmap=plt.cm.get_cmap('rainbow', 7))"
   ]
  },
  {
   "cell_type": "code",
   "execution_count": null,
   "metadata": {},
   "outputs": [],
   "source": [
    "fig = plt.figure()\n",
    "ax = plt.figure().add_subplot(projection='3d')\n",
    "sc = ax.scatter3D(X_conv[:, 0], X_conv[:, 1], X_conv[:, 2],\n",
    "             **colorize)\n",
    "ax.view_init(azim=120, elev=30)\n",
    "plt.colorbar(sc)\n",
    "\n"
   ]
  },
  {
   "cell_type": "code",
   "execution_count": null,
   "metadata": {},
   "outputs": [],
   "source": [
    "fig = plt.figure()\n",
    "ax = plt.figure().add_subplot(projection='3d')\n",
    "sc = ax.scatter3D(X_fc1[:, 0], X_fc1[:, 1], X_fc1[:, 2],\n",
    "             **colorize)\n",
    "ax.view_init(azim=120, elev=30)\n",
    "plt.colorbar(sc)\n",
    "\n"
   ]
  },
  {
   "cell_type": "markdown",
   "metadata": {},
   "source": [
    "## MDS"
   ]
  },
  {
   "cell_type": "code",
   "execution_count": null,
   "metadata": {},
   "outputs": [],
   "source": [
    "from sklearn.metrics import pairwise_distances\n",
    "D = pairwise_distances(Activations_conv)\n",
    "D.shape"
   ]
  },
  {
   "cell_type": "code",
   "execution_count": null,
   "metadata": {},
   "outputs": [],
   "source": [
    "plt.imshow(D, zorder=2, cmap='Blues', interpolation='nearest')\n",
    "plt.colorbar();"
   ]
  },
  {
   "cell_type": "code",
   "execution_count": null,
   "metadata": {
    "scrolled": true
   },
   "outputs": [],
   "source": [
    "from sklearn.manifold import MDS\n",
    "model = MDS(n_components=2, dissimilarity='precomputed', random_state=1)\n",
    "out = model.fit_transform(D)\n",
    "plt.scatter(out[:, 0], out[:, 1], **colorize)\n",
    "plt.axis('equal');"
   ]
  },
  {
   "cell_type": "code",
   "execution_count": null,
   "metadata": {},
   "outputs": [],
   "source": [
    "plt.figure(figsize=(40, 30))\n",
    "plt.scatter(out[:, 0], out[:, 1], **colorize)\n",
    "plt.axis('equal');\n",
    "\n",
    "text = [k for k in range(Activations_conv.shape[0])]\n",
    "\n",
    "for i in range(len(text)):\n",
    "    plt.annotate(text[i], (out[i, 0], out[i, 1]))"
   ]
  },
  {
   "cell_type": "code",
   "execution_count": null,
   "metadata": {},
   "outputs": [],
   "source": [
    "model = MDS(n_components=3, dissimilarity='precomputed', random_state=1)\n",
    "X = model.fit_transform(D)\n",
    "\n",
    "fig = plt.figure()\n",
    "ax = plt.figure().add_subplot(projection='3d')\n",
    "sc = ax.scatter3D(X[:, 0], X[:, 1], X[:, 2],\n",
    "             **colorize)\n",
    "ax.view_init(azim=40, elev=30)\n",
    "plt.colorbar(sc)"
   ]
  },
  {
   "cell_type": "markdown",
   "metadata": {},
   "source": [
    "## Other"
   ]
  },
  {
   "cell_type": "code",
   "execution_count": null,
   "metadata": {},
   "outputs": [],
   "source": [
    "from collections import OrderedDict\n",
    "from functools import partial\n",
    "from time import time\n",
    "\n",
    "import matplotlib.pyplot as plt\n",
    "from mpl_toolkits.mplot3d import Axes3D\n",
    "from matplotlib.ticker import NullFormatter\n",
    "\n",
    "from sklearn import manifold, datasets\n",
    "\n",
    "# Next line to silence pyflakes. This import is needed.\n",
    "Axes3D\n",
    "\n",
    "n_points = 1000\n",
    "X = Activations_conv\n",
    "n_neighbors = 12\n",
    "n_components = 3\n",
    "\n",
    "# Create figure\n",
    "fig = plt.figure(figsize=(20, 15))\n",
    "fig.suptitle(\n",
    "    \"Manifold Learning with %i points, %i neighbors\" % (1000, n_neighbors), fontsize=14\n",
    ")\n",
    "\n",
    "\n",
    "\n",
    "# Set-up manifold methods\n",
    "LLE = partial(\n",
    "    manifold.LocallyLinearEmbedding,\n",
    "    n_neighbors=n_neighbors,\n",
    "    n_components=n_components,\n",
    "    eigen_solver=\"dense\",\n",
    ")\n",
    "\n",
    "methods = OrderedDict()\n",
    "methods[\"LLE\"] = LLE(method=\"standard\")\n",
    "methods[\"LTSA\"] = LLE(method=\"ltsa\")\n",
    "methods[\"Hessian LLE\"] = LLE(method=\"hessian\")\n",
    "methods[\"Modified LLE\"] = LLE(method=\"modified\")\n",
    "methods[\"Isomap\"] = manifold.Isomap(n_neighbors=n_neighbors, n_components=n_components)\n",
    "methods[\"MDS\"] = manifold.MDS(n_components, max_iter=100, n_init=1)\n",
    "methods[\"SE\"] = manifold.SpectralEmbedding(\n",
    "    n_components=n_components, n_neighbors=n_neighbors\n",
    ")\n",
    "methods[\"t-SNE\"] = manifold.TSNE(n_components=n_components, init=\"pca\", random_state=0)\n",
    "\n",
    "# Plot results\n",
    "for i, (label, method) in enumerate(methods.items()):\n",
    "    t0 = time()\n",
    "    Y = method.fit_transform(X)\n",
    "    t1 = time()\n",
    "    print(\"%s: %.2g sec\" % (label, t1 - t0))\n",
    "    ax = fig.add_subplot(2, 5, 2 + i + (i > 3),projection=\"3d\")\n",
    "    sc = ax.scatter3D(Y[:, 0], Y[:, 1],Y[:, 2],  **colorize)\n",
    "    ax.set_title(\"%s (%.2g sec)\" % (label, t1 - t0))\n",
    "    #ax.xaxis.set_major_formatter(NullFormatter())\n",
    "    #ax.yaxis.set_major_formatter(NullFormatter())\n",
    "    ax.axis(\"tight\")\n",
    "    \n",
    "   # ax.view_init(azim=80, elev=30)\n",
    "plt.show()"
   ]
  },
  {
   "cell_type": "code",
   "execution_count": null,
   "metadata": {},
   "outputs": [],
   "source": [
    "emb = manifold.SpectralEmbedding(n_components=n_components, n_neighbors=n_neighbors)\n",
    "X= emb.fit_transform(Activations)\n",
    "\n",
    "fig = plt.figure()\n",
    "ax = plt.figure().add_subplot(projection='3d')\n",
    "sc = ax.scatter3D(X[:, 0], X[:, 1], X[:, 2],\n",
    "             **colorize)\n",
    "ax.view_init(azim=40, elev=30)\n",
    "plt.colorbar(sc)"
   ]
  },
  {
   "cell_type": "code",
   "execution_count": null,
   "metadata": {},
   "outputs": [],
   "source": [
    "# Sort data by position on manifold\n",
    "X_sort = Activations[np.argsort(colorize)]\n",
    "print(colorize.shape)\n",
    "print(X_sort.shape)\n",
    "print(Activations.shape)"
   ]
  },
  {
   "cell_type": "code",
   "execution_count": null,
   "metadata": {},
   "outputs": [],
   "source": [
    "m = mind_ensemble(Activations, manifold_dim=2, n_trees=100, seed=123)\n",
    "m.learn_coordinates()"
   ]
  },
  {
   "cell_type": "markdown",
   "metadata": {},
   "source": [
    "## Score average during training HPC"
   ]
  },
  {
   "cell_type": "code",
   "execution_count": null,
   "metadata": {},
   "outputs": [],
   "source": [
    "scores = [160.0, 110.0, 65.0, 120.0, 30.0, 65.0, 235.0, 210.0, 230.0, 180.0, 110.0, 150.0, 35.0, 30.0, 100.0, 65.0, 195.0, 105.0, 105.0, 80.0, 35.0, 70.0, 100.0, 330.0, 135.0, 205.0, 110.0, 335.0, 345.0, 80.0, 210.0, 470.0, 235.0, 325.0, 110.0, 265.0, 15.0, 30.0, 120.0, 470.0, 135.0, 90.0, 250.0, 300.0, 210.0, 200.0, 280.0, 85.0, 305.0, 470.0, 390.0, 45.0, 70.0, 235.0, 260.0, 205.0, 150.0, 225.0, 215.0, 430.0, 150.0, 205.0, 90.0, 170.0, 290.0, 150.0, 140.0, 195.0, 95.0, 135.0, 70.0, 90.0, 85.0, 50.0, 305.0, 160.0, 45.0, 155.0, 270.0, 30.0, 70.0, 230.0, 225.0, 100.0, 350.0, 135.0, 160.0, 95.0, 280.0, 565.0, 520.0, 305.0, 30.0, 70.0, 105.0, 225.0, 25.0, 405.0, 555.0, 70.0, 130.0, 120.0, 25.0, 215.0, 85.0, 15.0, 55.0, 55.0, 45.0, 10.0, 105.0, 235.0, 195.0, 245.0, 15.0, 80.0, 50.0, 90.0, 425.0, 110.0, 50.0, 135.0, 500.0, 160.0, 65.0, 260.0, 90.0, 215.0, 230.0, 20.0, 50.0, 25.0, 125.0, 385.0, 220.0, 360.0, 435.0, 190.0, 105.0, 175.0, 130.0, 65.0, 10.0, 140.0, 20.0, 170.0, 5.0, 120.0, 55.0, 320.0, 225.0, 15.0, 315.0, 120.0, 70.0, 20.0, 105.0, 280.0, 225.0, 20.0, 100.0, 140.0, 175.0, 155.0, 185.0, 355.0, 360.0, 15.0, 185.0, 535.0, 235.0, 265.0, 185.0, 105.0, 250.0, 10.0, 210.0, 100.0, 165.0, 275.0, 165.0, 180.0, 245.0, 85.0, 185.0, 385.0, 70.0, 75.0, 5.0, 35.0, 40.0, 145.0, 290.0, 75.0, 35.0, 605.0, 25.0, 105.0, 170.0, 165.0, 5.0, 40.0, 150.0, 20.0, 205.0, 315.0, 225.0, 220.0, 115.0, 245.0, 160.0, 510.0, 270.0, 200.0, 330.0, 230.0, 205.0, 335.0, 185.0, 135.0, 105.0, 130.0, 130.0, 20.0, 90.0, 300.0, 50.0, 20.0, 25.0, 150.0, 180.0, 295.0, 10.0, 95.0, 130.0, 85.0, 50.0, 500.0, 50.0, 15.0, 85.0, 35.0, 165.0, 60.0, 255.0, 80.0, 135.0, 115.0, 170.0, 65.0, 190.0, 120.0, 130.0, 275.0, 190.0, 80.0, 155.0, 135.0, 120.0, 60.0, 135.0, 110.0, 360.0, 120.0, 175.0, 210.0, 140.0, 230.0, 335.0, 210.0, 280.0, 440.0, 40.0, 145.0, 165.0, 230.0, 250.0, 120.0, 160.0, 630.0, 50.0, 410.0, 280.0, 160.0, 145.0, 505.0, 65.0, 140.0, 185.0, 130.0, 140.0, 120.0, 70.0, 155.0, 380.0, 140.0, 175.0, 25.0, 5.0, 165.0, 155.0, 100.0, 40.0, 5.0, 55.0, 415.0, 75.0, 100.0, 200.0, 40.0, 195.0, 50.0, 90.0, 345.0, 15.0, 230.0, 75.0, 90.0, 105.0, 110.0, 115.0, 325.0, 30.0, 120.0, 390.0, 490.0, 100.0, 65.0, 50.0, 240.0, 170.0, 25.0, 130.0, 140.0, 130.0, 35.0, 80.0, 35.0, 20.0, 20.0, 430.0, 25.0, 210.0, 490.0, 170.0, 105.0, 140.0, 115.0, 25.0, 20.0, 55.0, 10.0, 605.0, 170.0, 300.0, 75.0, 80.0, 115.0, 170.0, 30.0, 120.0, 415.0, 350.0, 485.0, 290.0, 20.0, 120.0, 75.0, 505.0, 435.0, 60.0, 540.0, 135.0, 75.0, 80.0, 160.0, 80.0, 125.0, 290.0, 5.0, 30.0, 265.0, 500.0, 10.0, 85.0, 85.0, 60.0, 80.0, 235.0, 370.0, 65.0, 95.0, 25.0, 110.0, 105.0, 65.0, 110.0, 65.0, 145.0, 420.0, 365.0, 50.0, 90.0, 55.0, 25.0, 105.0, 10.0, 415.0, 200.0, 55.0, 170.0, 150.0, 70.0, 55.0, 170.0, 125.0, 200.0, 145.0, 225.0, 85.0, 45.0, 445.0, 40.0, 205.0, 230.0, 240.0, 120.0, 245.0, 485.0, 330.0, 5.0, 70.0, 120.0, 60.0, 80.0, 150.0, 50.0, 280.0, 40.0, 145.0, 195.0, 70.0, 235.0, 145.0, 105.0, 310.0, 75.0, 145.0, 55.0, 105.0, 175.0, 315.0, 115.0, 215.0, 260.0, 670.0, 185.0, 100.0, 105.0, 190.0, 45.0, 275.0, 355.0, 100.0, 190.0, 210.0, 110.0, 65.0, 65.0, 35.0, 40.0, 425.0, 230.0, 90.0, 50.0, 190.0, 55.0, 180.0, 230.0, 320.0, 290.0, 245.0, 45.0, 180.0, 105.0, 90.0, 25.0, 140.0, 60.0, 15.0, 40.0, 15.0, 290.0, 145.0, 30.0, 75.0, 160.0, 105.0, 5.0, 50.0, 5.0, 65.0, 85.0, 215.0, 85.0, 265.0, 80.0, 55.0, 80.0, 90.0, 215.0, 460.0, 110.0, 215.0, 85.0, 30.0, 50.0, 35.0, 20.0, 255.0, 610.0, 500.0, 205.0, 110.0, 175.0, 15.0, 90.0, 45.0, 205.0, 215.0, 555.0, 230.0, 110.0, 95.0, 95.0, 30.0, 145.0, 250.0, 110.0, 100.0, 455.0, 390.0, 330.0, 190.0, 290.0, 110.0, 240.0, 400.0, 260.0, 235.0, 205.0, 120.0, 110.0, 20.0, 130.0, 140.0, 285.0, 115.0, 145.0, 125.0, 65.0, 150.0, 135.0, 185.0, 160.0, 375.0, 145.0, 135.0, 70.0, 215.0, 235.0, 45.0, 230.0, 110.0, 65.0, 15.0, 230.0, 170.0, 240.0, 345.0, 235.0, 100.0, 50.0, 155.0, 160.0, 210.0, 125.0, 145.0, 280.0, 85.0, 140.0, 250.0, 115.0, 30.0, 540.0, 430.0, 235.0, 75.0, 285.0, 220.0, 395.0, 135.0, 30.0, 380.0, 155.0, 30.0, 35.0, 70.0, 285.0, 155.0, 40.0, 165.0, 25.0, 455.0, 190.0, 35.0, 115.0, 180.0, 215.0, 45.0, 80.0, 280.0, 65.0, 225.0, 155.0, 30.0, 375.0, 30.0, 340.0, 120.0, 160.0, 325.0, 30.0, 70.0, 15.0, 40.0, 150.0, 85.0, 250.0, 30.0, 465.0, 200.0, 535.0, 305.0, 210.0, 50.0, 380.0, 155.0, 345.0, 365.0, 50.0, 215.0, 110.0, 135.0, 205.0, 95.0, 65.0, 525.0, 80.0, 40.0, 65.0, 165.0, 130.0, 125.0, 195.0, 65.0, 80.0, 155.0, 335.0, 325.0, 150.0, 275.0, 140.0, 240.0, 125.0, 160.0, 140.0, 135.0, 175.0, 315.0, 155.0, 380.0, 65.0, 120.0, 70.0, 290.0, 390.0, 210.0, 110.0, 80.0, 195.0, 150.0, 255.0, 190.0, 155.0, 285.0, 80.0, 110.0, 75.0, 55.0, 305.0, 105.0, 70.0, 265.0, 125.0, 230.0, 280.0, 115.0, 75.0, 235.0, 150.0, 135.0, 430.0, 130.0, 80.0, 200.0, 170.0, 140.0, 185.0, 100.0, 210.0, 55.0, 110.0, 335.0, 120.0, 340.0, 390.0, 125.0, 135.0, 490.0, 115.0, 90.0, 120.0, 75.0, 135.0, 485.0, 435.0, 140.0, 110.0, 120.0, 185.0, 175.0, 80.0, 105.0, 530.0, 350.0, 135.0, 270.0, 60.0, 365.0, 105.0, 500.0, 365.0, 120.0, 75.0, 50.0, 380.0, 485.0, 85.0, 120.0, 120.0, 110.0, 110.0, 110.0, 220.0, 775.0, 105.0, 105.0, 75.0, 415.0, 175.0, 75.0, 80.0, 225.0, 160.0, 60.0, 75.0, 300.0, 190.0, 165.0, 105.0, 55.0, 145.0, 95.0, 110.0, 85.0, 410.0, 75.0, 220.0, 525.0, 490.0, 135.0, 175.0, 1095.0, 120.0, 155.0, 50.0, 265.0, 155.0, 110.0, 345.0, 215.0, 210.0, 105.0, 50.0, 540.0, 195.0, 180.0, 285.0, 430.0, 290.0, 140.0, 335.0, 90.0, 125.0, 135.0, 155.0, 105.0, 140.0, 115.0, 145.0, 140.0, 135.0, 230.0, 160.0, 125.0, 180.0, 350.0, 145.0, 110.0, 410.0, 120.0, 140.0, 290.0, 250.0, 230.0, 270.0, 180.0, 295.0, 560.0, 135.0, 180.0, 75.0, 210.0, 85.0, 225.0, 455.0, 225.0, 140.0, 205.0, 215.0, 415.0, 205.0, 470.0, 150.0, 280.0, 110.0, 405.0, 120.0, 65.0, 555.0, 80.0, 490.0, 520.0, 215.0, 425.0, 470.0, 250.0, 105.0, 630.0, 365.0, 145.0, 165.0, 195.0, 230.0, 540.0, 165.0, 110.0, 320.0, 265.0, 95.0, 180.0, 110.0, 170.0, 235.0, 185.0, 200.0, 210.0, 110.0, 320.0, 130.0, 230.0, 165.0, 355.0, 230.0, 230.0, 180.0, 205.0, 535.0, 50.0, 350.0, 220.0, 390.0, 90.0, 290.0, 130.0, 55.0, 105.0, 190.0, 390.0, 145.0, 115.0, 120.0, 300.0, 85.0, 220.0, 110.0, 140.0, 110.0, 185.0, 120.0, 160.0, 115.0, 730.0, 270.0, 875.0, 135.0, 175.0, 155.0, 220.0, 105.0, 165.0, 135.0, 190.0, 160.0, 135.0, 110.0, 635.0, 100.0, 105.0, 215.0, 80.0, 50.0, 505.0, 85.0, 295.0, 375.0, 135.0, 110.0, 225.0, 210.0, 125.0, 205.0, 125.0, 130.0, 110.0, 110.0, 380.0, 370.0, 495.0, 530.0, 130.0, 200.0, 320.0, 220.0, 280.0, 355.0, 170.0, 100.0, 290.0, 135.0, 80.0, 570.0, 300.0, 365.0, 80.0, 110.0, 105.0, 350.0, 110.0, 105.0, 180.0, 470.0, 630.0, 170.0, 245.0, 110.0, 310.0, 350.0, 170.0, 215.0, 180.0, 170.0, 15.0, 80.0, 105.0, 25.0, 110.0, 200.0, 275.0]\n",
    "#scores_2 = [60.0, 150.0, 95.0, 135.0, 155.0, 90.0, 215.0, 30.0, 105.0, 105.0, 45.0, 210.0, 210.0, 50.0, 205.0, 110.0, 155.0, 80.0, 200.0, 110.0, 110.0, 95.0, 485.0, 135.0, 75.0, 85.0, 135.0, 155.0, 155.0, 120.0, 55.0, 105.0, 285.0, 130.0, 255.0, 380.0, 105.0, 120.0, 75.0, 155.0, 120.0, 70.0, 205.0, 120.0, 120.0, 170.0, 110.0, 220.0, 295.0, 160.0, 240.0, 155.0, 135.0, 35.0, 220.0, 395.0, 120.0, 520.0, 20.0, 155.0, 75.0, 60.0, 300.0, 160.0, 180.0, 95.0, 195.0, 155.0, 195.0, 200.0, 110.0, 95.0, 220.0, 200.0, 250.0, 320.0, 30.0, 155.0, 130.0, 355.0, 170.0, 375.0, 135.0, 240.0, 165.0, 145.0, 160.0, 40.0, 75.0, 110.0, 120.0, 240.0, 160.0, 130.0, 75.0, 210.0, 80.0, 60.0, 115.0, 440.0, 135.0, 110.0, 70.0, 165.0, 40.0, 230.0, 200.0, 135.0, 110.0, 245.0, 110.0, 65.0, 105.0, 145.0, 210.0, 135.0, 195.0, 495.0, 245.0, 225.0, 135.0, 95.0, 125.0, 350.0, 160.0, 230.0, 200.0, 110.0, 155.0, 205.0, 380.0, 60.0, 190.0, 160.0, 110.0, 830.0, 475.0, 50.0, 710.0, 150.0, 200.0, 105.0, 115.0, 90.0, 105.0, 60.0, 325.0, 280.0, 10.0, 150.0, 165.0, 140.0, 465.0, 705.0, 140.0, 155.0, 120.0, 110.0, 395.0, 190.0, 215.0, 95.0, 160.0, 95.0, 305.0, 80.0, 405.0, 240.0, 80.0, 280.0, 125.0, 315.0, 60.0, 105.0, 190.0, 335.0, 145.0, 205.0, 335.0, 115.0, 290.0, 325.0, 290.0, 50.0, 140.0, 110.0, 170.0, 320.0, 155.0, 55.0, 75.0, 415.0, 290.0, 80.0, 75.0, 290.0, 150.0, 315.0, 260.0, 270.0, 90.0, 150.0, 40.0, 285.0, 150.0, 385.0, 255.0, 175.0, 360.0, 215.0, 220.0, 100.0, 130.0, 330.0, 245.0, 80.0, 320.0, 15.0, 230.0, 520.0, 195.0, 155.0, 240.0, 95.0, 530.0, 140.0, 250.0, 540.0, 350.0, 210.0, 130.0, 445.0, 85.0, 140.0, 35.0, 120.0, 315.0, 160.0, 335.0, 245.0, 230.0, 90.0, 470.0, 425.0, 265.0, 80.0, 230.0, 145.0, 90.0, 340.0, 275.0, 125.0, 145.0, 145.0, 80.0, 380.0, 240.0, 130.0, 205.0, 230.0, 145.0, 130.0, 85.0, 75.0, 400.0, 190.0, 235.0, 310.0, 250.0, 130.0, 100.0, 185.0, 95.0, 190.0, 200.0, 90.0, 345.0, 85.0, 45.0, 375.0, 305.0, 515.0, 655.0, 150.0, 120.0, 20.0, 410.0, 510.0, 295.0, 170.0, 175.0, 205.0, 170.0, 140.0, 310.0, 70.0, 55.0, 215.0, 355.0, 265.0, 75.0, 425.0, 165.0, 270.0, 80.0, 65.0, 385.0, 155.0, 65.0, 60.0, 175.0, 385.0, 135.0, 235.0, 110.0, 195.0, 110.0, 75.0, 225.0, 115.0, 105.0, 50.0, 495.0, 245.0, 220.0, 155.0, 235.0, 70.0, 135.0, 145.0, 180.0, 190.0, 115.0, 20.0, 65.0, 255.0, 55.0, 165.0, 290.0, 55.0, 130.0, 150.0, 100.0, 160.0, 150.0, 115.0, 65.0, 240.0, 90.0, 250.0, 45.0, 95.0, 175.0, 125.0, 100.0, 230.0, 50.0, 265.0, 195.0, 130.0, 455.0, 85.0, 130.0, 410.0, 295.0, 40.0, 75.0, 235.0, 320.0, 155.0, 435.0, 300.0, 220.0, 300.0, 15.0, 285.0, 210.0, 260.0, 270.0, 25.0, 75.0, 195.0, 100.0, 295.0, 50.0, 110.0, 185.0, 190.0, 255.0, 240.0, 425.0, 185.0, 215.0, 400.0, 495.0, 80.0, 335.0, 160.0, 205.0, 190.0, 215.0, 430.0, 285.0, 155.0, 90.0, 145.0, 490.0, 335.0, 150.0, 160.0, 130.0, 140.0, 455.0, 340.0, 190.0, 205.0, 175.0, 735.0, 175.0, 435.0, 235.0, 250.0, 450.0, 300.0, 130.0, 380.0, 150.0, 450.0, 300.0, 515.0, 135.0, 280.0, 180.0, 140.0, 530.0, 170.0, 270.0, 275.0, 140.0, 90.0, 295.0, 260.0, 130.0, 80.0, 255.0, 110.0, 70.0, 330.0, 25.0, 215.0, 80.0, 255.0, 125.0, 185.0, 235.0, 405.0, 445.0, 305.0, 130.0, 400.0, 310.0, 305.0, 75.0, 160.0, 190.0, 115.0, 205.0, 245.0, 490.0, 245.0, 235.0, 195.0, 160.0, 180.0, 215.0, 505.0, 115.0, 230.0, 575.0, 245.0, 110.0, 90.0, 270.0, 220.0, 280.0, 70.0, 200.0, 265.0, 170.0, 150.0, 155.0, 315.0, 195.0, 280.0, 510.0, 100.0, 425.0, 175.0, 130.0, 485.0, 40.0, 640.0, 280.0, 170.0, 260.0, 255.0, 120.0, 110.0, 200.0, 370.0, 180.0, 205.0, 180.0, 250.0, 125.0, 65.0, 205.0, 305.0, 65.0, 105.0, 85.0, 130.0, 155.0, 130.0, 80.0, 195.0, 185.0, 285.0, 110.0, 355.0, 235.0, 140.0, 450.0, 145.0, 70.0, 65.0, 55.0, 340.0, 185.0, 65.0, 75.0, 310.0, 130.0, 170.0, 250.0, 125.0, 275.0, 240.0, 345.0, 245.0, 190.0, 220.0, 85.0, 105.0, 180.0, 445.0, 420.0, 110.0, 290.0, 325.0, 75.0, 160.0, 110.0, 350.0, 185.0, 75.0, 115.0, 455.0, 210.0, 60.0, 215.0, 285.0, 35.0, 255.0, 155.0, 80.0, 115.0, 210.0, 205.0, 180.0, 85.0, 110.0, 340.0, 65.0, 215.0, 380.0, 340.0, 495.0, 75.0, 85.0, 45.0, 615.0, 50.0, 180.0, 315.0, 140.0, 245.0, 120.0, 90.0, 210.0, 210.0, 90.0, 80.0, 245.0, 310.0, 165.0, 240.0, 110.0, 75.0, 105.0, 105.0, 240.0, 255.0, 85.0, 110.0, 145.0, 195.0, 185.0, 110.0, 175.0, 585.0, 75.0, 115.0, 320.0, 180.0, 150.0, 230.0, 160.0, 295.0, 110.0, 110.0, 295.0, 110.0, 135.0, 285.0, 105.0, 190.0, 355.0, 355.0, 345.0, 335.0, 575.0, 155.0, 210.0, 180.0, 215.0, 240.0, 150.0, 165.0, 210.0, 255.0, 80.0, 75.0, 415.0, 530.0, 225.0, 110.0, 50.0, 75.0, 250.0, 80.0, 300.0, 325.0, 525.0, 380.0, 425.0, 155.0, 335.0, 185.0, 75.0, 105.0, 240.0, 260.0, 195.0, 560.0, 210.0, 105.0, 140.0, 75.0, 75.0, 75.0, 155.0, 690.0, 310.0, 555.0, 15.0, 110.0, 110.0, 410.0, 105.0, 70.0, 75.0, 155.0, 120.0, 135.0, 755.0, 110.0, 190.0, 180.0, 210.0, 190.0, 55.0, 160.0, 595.0, 155.0, 155.0, 240.0, 220.0, 135.0, 160.0, 110.0, 430.0, 115.0, 210.0, 110.0, 475.0, 25.0, 145.0, 275.0, 205.0, 320.0, 120.0, 690.0, 105.0, 135.0, 120.0, 295.0, 205.0, 440.0, 155.0, 370.0, 610.0, 155.0, 105.0, 135.0, 75.0, 325.0, 210.0, 20.0, 335.0, 165.0, 175.0, 60.0, 125.0, 400.0, 230.0, 275.0, 295.0, 95.0, 215.0, 450.0, 135.0, 55.0, 220.0, 35.0, 970.0, 285.0, 330.0, 210.0, 185.0, 145.0, 165.0, 210.0, 205.0, 120.0, 520.0, 380.0, 420.0, 215.0, 90.0, 375.0, 320.0, 55.0, 145.0, 215.0, 130.0, 110.0, 75.0, 135.0, 180.0, 35.0, 225.0, 110.0, 215.0, 350.0, 115.0, 210.0, 335.0, 180.0, 105.0, 155.0, 120.0, 110.0, 240.0, 440.0, 335.0, 125.0, 310.0, 260.0, 250.0, 65.0, 135.0, 435.0, 75.0, 160.0, 165.0, 355.0, 50.0, 230.0, 110.0, 155.0, 365.0, 150.0, 420.0, 165.0, 75.0, 225.0, 110.0, 300.0, 60.0, 290.0, 285.0, 55.0, 210.0, 150.0, 510.0, 195.0, 110.0, 180.0, 440.0, 195.0, 45.0, 450.0, 165.0, 245.0, 55.0, 325.0, 450.0, 430.0, 210.0, 160.0, 155.0, 75.0, 130.0, 20.0, 145.0, 185.0, 215.0, 195.0, 105.0, 60.0, 210.0, 350.0, 455.0, 95.0, 110.0, 75.0, 335.0, 155.0, 60.0, 160.0, 140.0, 90.0, 315.0, 55.0, 100.0, 210.0, 55.0, 240.0, 105.0, 45.0, 135.0, 110.0, 115.0, 265.0, 150.0, 415.0, 20.0, 55.0, 210.0, 305.0, 305.0, 160.0, 195.0, 70.0, 215.0, 35.0, 425.0, 35.0, 245.0, 225.0, 530.0, 80.0, 95.0, 355.0, 230.0, 30.0, 160.0, 570.0, 150.0, 220.0, 220.0, 190.0, 115.0, 50.0, 215.0, 130.0, 105.0, 185.0, 130.0, 105.0, 120.0, 135.0, 155.0, 105.0, 210.0, 215.0, 325.0, 230.0, 300.0, 100.0, 110.0, 15.0, 495.0, 150.0, 65.0, 160.0, 80.0, 10.0, 50.0, 235.0, 535.0, 550.0, 75.0, 45.0, 325.0, 40.0, 105.0, 65.0, 155.0, 210.0, 125.0, 230.0, 280.0, 320.0, 190.0, 55.0, 60.0, 550.0, 185.0, 85.0, 345.0, 55.0, 455.0, 345.0, 210.0, 20.0, 500.0, 120.0, 130.0, 125.0, 230.0, 105.0, 80.0, 200.0, 100.0, 140.0, 55.0, 75.0, 85.0, 75.0, 405.0, 310.0, 120.0, 90.0, 220.0, 180.0, 325.0, 30.0, 170.0, 295.0, 150.0, 170.0, 185.0, 185.0, 95.0, 180.0, 415.0, 185.0, 135.0, 145.0, 335.0, 125.0, 160.0, 155.0, 50.0, 160.0, 105.0, 175.0, 315.0]\n",
    "scores_3 = [60.0, 150.0, 95.0, 135.0, 155.0, 90.0, 215.0, 30.0, 105.0, 105.0, 45.0, 210.0, 210.0, 50.0, 205.0, 110.0, 155.0, 80.0, 200.0, 110.0, 110.0, 95.0, 485.0, 135.0, 75.0, 85.0, 135.0, 155.0, 155.0, 120.0, 55.0, 105.0, 285.0, 130.0, 255.0, 380.0, 105.0, 120.0, 75.0, 155.0, 120.0, 70.0, 205.0, 120.0, 120.0, 170.0, 110.0, 220.0, 295.0, 160.0, 240.0, 155.0, 135.0, 35.0, 220.0, 395.0, 120.0, 520.0, 20.0, 155.0, 75.0, 60.0, 300.0, 160.0, 180.0, 95.0, 195.0, 155.0, 195.0, 200.0, 110.0, 95.0, 220.0, 200.0, 250.0, 320.0, 30.0, 155.0, 130.0, 355.0, 170.0, 375.0, 135.0, 240.0, 165.0, 145.0, 160.0, 40.0, 75.0, 110.0, 120.0, 240.0, 160.0, 130.0, 75.0, 210.0, 80.0, 60.0, 115.0, 440.0, 135.0, 110.0, 70.0, 165.0, 40.0, 230.0, 200.0, 135.0, 110.0, 245.0, 110.0, 65.0, 105.0, 145.0, 210.0, 135.0, 195.0, 495.0, 245.0, 225.0, 135.0, 95.0, 125.0, 350.0, 160.0, 230.0, 200.0, 110.0, 155.0, 205.0, 380.0, 60.0, 190.0, 160.0, 110.0, 830.0, 475.0, 50.0, 710.0, 150.0, 200.0, 105.0, 115.0, 90.0, 105.0, 60.0, 325.0, 280.0, 10.0, 150.0, 165.0, 140.0, 465.0, 705.0, 140.0, 155.0, 120.0, 110.0, 395.0, 190.0, 215.0, 95.0, 160.0, 95.0, 305.0, 80.0, 405.0, 240.0, 80.0, 280.0, 125.0, 315.0, 60.0, 105.0, 190.0, 335.0, 145.0, 205.0, 335.0, 115.0, 290.0, 325.0, 290.0, 50.0, 140.0, 110.0, 170.0, 320.0, 155.0, 55.0, 75.0, 415.0, 290.0, 80.0, 75.0, 290.0, 150.0, 315.0, 260.0, 270.0, 90.0, 150.0, 40.0, 285.0, 150.0, 385.0, 255.0, 175.0, 360.0, 215.0, 220.0, 100.0, 130.0, 330.0, 245.0, 80.0, 320.0, 15.0, 230.0, 520.0, 195.0, 155.0, 240.0, 95.0, 530.0, 140.0, 250.0, 540.0, 350.0, 210.0, 130.0, 445.0, 85.0, 140.0, 35.0, 120.0, 315.0, 160.0, 335.0, 245.0, 230.0, 90.0, 470.0, 425.0, 265.0, 80.0, 230.0, 145.0, 90.0, 340.0, 275.0, 125.0, 145.0, 145.0, 80.0, 380.0, 240.0, 130.0, 205.0, 230.0, 145.0, 130.0, 85.0, 75.0, 400.0, 190.0, 235.0, 310.0, 250.0, 130.0, 100.0, 185.0, 95.0, 190.0, 200.0, 90.0, 345.0, 85.0, 45.0, 375.0, 305.0, 515.0, 655.0, 150.0, 120.0, 20.0, 410.0, 510.0, 295.0, 170.0, 175.0, 205.0, 170.0, 140.0, 310.0, 70.0, 55.0, 215.0, 355.0, 265.0, 75.0, 425.0, 165.0, 270.0, 80.0, 65.0, 385.0, 155.0, 65.0, 60.0, 175.0, 385.0, 135.0, 235.0, 110.0, 195.0, 110.0, 75.0, 225.0, 115.0, 105.0, 50.0, 495.0, 245.0, 220.0, 155.0, 235.0, 70.0, 135.0, 145.0, 180.0, 190.0, 115.0, 20.0, 65.0, 255.0, 55.0, 165.0, 290.0, 55.0, 130.0, 150.0, 100.0, 160.0, 150.0, 115.0, 65.0, 240.0, 90.0, 250.0, 45.0, 95.0, 175.0, 125.0, 100.0, 230.0, 50.0, 265.0, 195.0, 130.0, 455.0, 85.0, 130.0, 410.0, 295.0, 40.0, 75.0, 235.0, 320.0, 155.0, 435.0, 300.0, 220.0, 300.0, 15.0, 285.0, 210.0, 260.0, 270.0, 25.0, 75.0, 195.0, 100.0, 295.0, 50.0, 110.0, 185.0, 190.0, 255.0, 240.0, 425.0, 185.0, 215.0, 400.0, 495.0, 80.0, 335.0, 160.0, 205.0, 190.0, 215.0, 430.0, 285.0, 155.0, 90.0, 145.0, 490.0, 335.0, 150.0, 160.0, 130.0, 140.0, 455.0, 340.0, 190.0, 205.0, 175.0, 735.0, 175.0, 435.0, 235.0, 250.0, 450.0, 300.0, 130.0, 380.0, 150.0, 450.0, 300.0, 515.0, 135.0, 280.0, 180.0, 140.0, 530.0, 170.0, 270.0, 275.0, 140.0, 90.0, 295.0, 260.0, 130.0, 80.0, 255.0, 110.0, 70.0, 330.0, 25.0, 215.0, 80.0, 255.0, 125.0, 185.0, 235.0, 405.0, 445.0, 305.0, 130.0, 400.0, 310.0, 305.0, 75.0, 160.0, 190.0, 115.0, 205.0, 245.0, 490.0, 245.0, 235.0, 195.0, 160.0, 180.0, 215.0, 505.0, 115.0, 230.0, 575.0, 245.0, 110.0, 90.0, 270.0, 220.0, 280.0, 70.0, 200.0, 265.0, 170.0, 150.0, 155.0, 315.0, 195.0, 280.0, 510.0, 100.0, 425.0, 175.0, 130.0, 485.0, 40.0, 640.0, 280.0, 170.0, 260.0, 255.0, 120.0, 110.0, 200.0, 370.0, 180.0, 205.0, 180.0, 250.0, 125.0, 65.0, 205.0, 305.0, 65.0, 105.0, 85.0, 130.0, 155.0, 130.0, 80.0, 195.0, 185.0, 285.0, 110.0, 355.0, 235.0, 140.0, 450.0, 145.0, 70.0, 65.0, 55.0, 340.0, 185.0, 65.0, 75.0, 310.0, 130.0, 170.0, 250.0, 125.0, 275.0, 240.0, 345.0, 245.0, 190.0, 220.0, 85.0, 105.0, 180.0, 445.0, 420.0, 110.0, 290.0, 325.0, 75.0, 160.0, 110.0, 350.0, 185.0, 75.0, 115.0, 455.0, 210.0, 60.0, 215.0, 285.0, 35.0, 255.0, 155.0, 80.0, 115.0, 210.0, 205.0, 180.0, 85.0, 110.0, 340.0, 65.0, 215.0, 380.0, 340.0, 495.0, 75.0, 85.0, 45.0, 615.0, 50.0, 180.0, 315.0, 140.0, 245.0, 120.0, 90.0, 210.0, 210.0, 90.0, 80.0, 245.0, 310.0, 165.0, 240.0, 110.0, 75.0, 105.0, 105.0, 240.0, 255.0, 85.0, 110.0, 145.0, 195.0, 185.0, 110.0, 175.0, 585.0, 75.0, 115.0, 320.0, 180.0, 150.0, 230.0, 160.0, 295.0, 110.0, 110.0, 295.0, 110.0, 135.0, 285.0, 105.0, 190.0, 355.0, 355.0, 345.0, 335.0, 575.0, 155.0, 210.0, 180.0, 215.0, 240.0, 150.0, 165.0, 210.0, 255.0, 80.0, 75.0, 415.0, 530.0, 225.0, 110.0, 50.0, 75.0, 250.0, 80.0, 300.0, 325.0, 525.0, 380.0, 425.0, 155.0, 335.0, 185.0, 75.0, 105.0, 240.0, 260.0, 195.0, 560.0, 210.0, 105.0, 140.0, 75.0, 75.0, 75.0, 155.0, 690.0, 310.0, 555.0, 15.0, 110.0, 110.0, 410.0, 105.0, 70.0, 75.0, 155.0, 120.0, 135.0, 755.0, 110.0, 190.0, 180.0, 210.0, 190.0, 55.0, 160.0, 595.0, 155.0, 155.0, 240.0, 220.0, 135.0, 160.0, 110.0, 430.0, 115.0, 210.0, 110.0, 475.0, 25.0, 145.0, 275.0, 205.0, 320.0, 120.0, 690.0, 105.0, 135.0, 120.0, 295.0, 205.0, 440.0, 155.0, 370.0, 610.0, 155.0, 105.0, 135.0, 75.0, 325.0, 210.0, 20.0, 335.0, 165.0, 175.0, 60.0, 125.0, 400.0, 230.0, 275.0, 295.0, 95.0, 215.0, 450.0, 135.0, 55.0, 220.0, 35.0, 970.0, 285.0, 330.0, 210.0, 185.0, 145.0, 165.0, 210.0, 205.0, 120.0, 520.0, 380.0, 420.0, 215.0, 90.0, 375.0, 320.0, 55.0, 145.0, 215.0, 130.0, 110.0, 75.0, 135.0, 180.0, 35.0, 225.0, 110.0, 215.0, 350.0, 115.0, 210.0, 335.0, 180.0, 105.0, 155.0, 120.0, 110.0, 240.0, 440.0, 335.0, 125.0, 310.0, 260.0, 250.0, 65.0, 135.0, 435.0, 75.0, 160.0, 165.0, 355.0, 50.0, 230.0, 110.0, 155.0, 365.0, 150.0, 420.0, 165.0, 75.0, 225.0, 110.0, 300.0, 60.0, 290.0, 285.0, 55.0, 210.0, 150.0, 510.0, 195.0, 110.0, 180.0, 440.0, 195.0, 45.0, 450.0, 165.0, 245.0, 55.0, 325.0, 450.0, 430.0, 210.0, 160.0, 155.0, 75.0, 130.0, 20.0, 145.0, 185.0, 215.0, 195.0, 105.0, 60.0, 210.0, 350.0, 455.0, 95.0, 110.0, 75.0, 335.0, 155.0, 60.0, 160.0, 140.0, 90.0, 315.0, 55.0, 100.0, 210.0, 55.0, 240.0, 105.0, 45.0, 135.0, 110.0, 115.0, 265.0, 150.0, 415.0, 20.0, 55.0, 210.0, 305.0, 305.0, 160.0, 195.0, 70.0, 215.0, 35.0, 425.0, 35.0, 245.0, 225.0, 530.0, 80.0, 95.0, 355.0, 230.0, 30.0, 160.0, 570.0, 150.0, 220.0, 220.0, 190.0, 115.0, 50.0, 215.0, 130.0, 105.0, 185.0, 130.0, 105.0, 120.0, 135.0, 155.0, 105.0, 210.0, 215.0, 325.0, 230.0, 300.0, 100.0, 110.0, 15.0, 495.0, 150.0, 65.0, 160.0, 80.0, 10.0, 50.0, 235.0, 535.0, 550.0, 75.0, 45.0, 325.0, 40.0, 105.0, 65.0, 155.0, 210.0, 125.0, 230.0, 280.0, 320.0, 190.0, 55.0, 60.0, 550.0, 185.0, 85.0, 345.0, 55.0, 455.0, 345.0, 210.0, 20.0, 500.0, 120.0, 130.0, 125.0, 230.0, 105.0, 80.0, 200.0, 100.0, 140.0, 55.0, 75.0, 85.0, 75.0, 405.0, 310.0, 120.0, 90.0, 220.0, 180.0, 325.0, 30.0, 170.0, 295.0, 150.0, 170.0, 185.0, 185.0, 95.0, 180.0, 415.0, 185.0, 135.0, 145.0, 335.0, 125.0, 160.0, 155.0, 50.0, 160.0, 105.0, 175.0, 315.0, 60.0, 380.0, 125.0, 155.0, 135.0, 135.0, 260.0, 215.0, 210.0, 215.0, 105.0, 410.0, 125.0, 75.0, 185.0, 120.0, 20.0, 210.0, 355.0, 65.0, 105.0, 110.0, 170.0, 100.0, 155.0, 140.0, 225.0, 35.0, 45.0, 210.0, 275.0, 350.0, 135.0, 490.0, 65.0, 315.0, 250.0, 80.0, 365.0, 115.0, 255.0, 215.0, 240.0, 405.0, 25.0, 105.0, 260.0, 85.0, 135.0, 295.0, 255.0, 415.0, 125.0, 155.0, 5.0, 110.0, 185.0, 125.0, 165.0, 155.0, 120.0, 195.0, 330.0, 410.0, 215.0, 185.0, 105.0, 205.0, 240.0, 130.0, 100.0, 165.0, 50.0, 110.0, 105.0, 135.0, 585.0, 140.0, 135.0, 590.0, 135.0, 360.0, 395.0, 35.0, 240.0, 50.0, 175.0, 195.0, 110.0, 145.0, 140.0, 365.0, 770.0, 255.0, 135.0, 85.0, 55.0, 830.0, 470.0, 250.0, 175.0, 170.0, 120.0, 80.0, 210.0, 425.0, 110.0, 110.0, 320.0, 105.0, 165.0, 435.0, 50.0, 385.0, 190.0, 135.0, 105.0, 275.0, 120.0, 105.0, 210.0, 120.0, 65.0, 400.0, 135.0, 105.0, 55.0, 125.0, 125.0, 95.0, 55.0, 190.0, 115.0, 120.0, 110.0, 90.0, 125.0, 210.0, 50.0, 150.0, 745.0, 215.0, 60.0, 265.0, 200.0, 280.0, 210.0, 75.0, 170.0, 55.0, 480.0, 135.0, 60.0, 125.0, 455.0, 190.0, 250.0, 155.0, 480.0, 235.0, 140.0, 155.0, 135.0, 395.0, 155.0, 165.0, 140.0, 180.0, 75.0, 165.0, 80.0, 110.0, 155.0, 190.0, 105.0, 5.0, 75.0, 105.0, 215.0, 80.0, 125.0, 75.0, 90.0, 55.0, 130.0, 120.0, 275.0, 90.0, 45.0, 600.0, 210.0, 110.0, 160.0, 275.0, 125.0, 120.0, 150.0, 210.0, 135.0, 195.0, 215.0, 135.0, 130.0, 105.0, 385.0, 110.0, 95.0, 155.0, 125.0, 185.0, 340.0, 110.0, 120.0, 275.0, 135.0, 395.0, 330.0, 80.0, 340.0, 165.0, 210.0, 340.0, 345.0, 105.0, 165.0, 55.0, 780.0, 225.0, 140.0, 345.0, 140.0, 120.0, 415.0, 395.0, 105.0, 160.0, 270.0, 135.0, 180.0, 80.0, 75.0, 105.0, 405.0, 105.0, 435.0, 380.0, 75.0, 75.0, 125.0, 330.0, 510.0, 340.0, 235.0, 50.0, 165.0, 215.0, 140.0, 105.0, 205.0, 40.0, 95.0, 80.0, 105.0, 185.0, 425.0, 445.0, 250.0, 80.0, 155.0, 65.0, 30.0, 325.0, 235.0, 110.0, 145.0, 180.0, 345.0, 50.0, 405.0, 605.0, 220.0, 135.0, 105.0, 130.0, 480.0, 135.0, 225.0, 225.0, 300.0, 240.0, 220.0, 45.0, 140.0, 230.0, 105.0, 235.0, 190.0, 360.0, 185.0, 115.0, 285.0, 485.0, 120.0, 165.0, 75.0, 85.0, 120.0, 305.0, 290.0, 285.0, 410.0, 120.0, 280.0, 105.0, 105.0, 435.0, 345.0, 435.0, 245.0, 280.0, 175.0, 55.0, 240.0, 160.0, 400.0, 300.0, 80.0, 125.0, 10.0, 390.0, 255.0, 90.0, 105.0, 365.0, 170.0, 210.0, 225.0, 45.0, 135.0, 200.0, 50.0, 295.0, 40.0, 155.0, 185.0, 105.0, 550.0, 245.0, 130.0, 295.0, 325.0, 310.0, 420.0, 25.0, 125.0, 100.0, 170.0, 235.0, 135.0, 445.0, 125.0, 560.0, 105.0, 220.0, 370.0, 265.0, 130.0, 100.0, 175.0, 235.0, 410.0, 125.0, 410.0, 455.0, 275.0, 330.0, 355.0, 360.0, 410.0, 170.0, 205.0, 95.0, 385.0, 50.0, 255.0, 55.0, 205.0, 130.0, 75.0, 110.0, 80.0, 135.0, 210.0, 385.0, 110.0, 205.0, 105.0, 345.0, 215.0, 335.0, 200.0, 305.0, 145.0, 140.0, 150.0, 285.0, 165.0, 260.0, 50.0, 45.0, 55.0, 215.0, 220.0, 140.0, 610.0, 355.0, 595.0, 465.0, 140.0, 175.0, 75.0, 35.0, 110.0, 215.0, 120.0, 185.0, 555.0, 275.0, 395.0, 255.0, 195.0, 140.0, 100.0, 625.0, 190.0, 380.0, 295.0, 230.0, 370.0, 110.0, 260.0, 205.0, 110.0, 60.0, 355.0, 360.0, 265.0, 435.0, 340.0, 185.0, 495.0, 240.0, 380.0, 200.0, 65.0, 320.0, 180.0, 280.0, 255.0, 150.0, 180.0, 520.0, 70.0, 240.0, 230.0, 390.0, 380.0, 105.0, 220.0, 245.0, 115.0, 355.0, 390.0, 135.0, 155.0, 20.0, 100.0, 215.0, 230.0, 410.0, 30.0, 260.0, 185.0, 135.0, 240.0, 70.0, 125.0, 185.0, 225.0, 770.0, 405.0, 585.0, 535.0, 295.0, 175.0, 180.0, 240.0, 260.0, 85.0, 180.0, 140.0, 240.0, 20.0, 125.0, 60.0, 260.0, 245.0, 150.0, 270.0, 275.0, 225.0, 120.0, 395.0, 185.0, 195.0, 205.0, 270.0, 75.0, 160.0, 160.0, 95.0, 180.0, 210.0, 420.0, 185.0, 150.0, 295.0, 440.0, 305.0, 325.0, 110.0, 100.0, 335.0, 225.0, 65.0, 170.0, 55.0, 95.0, 95.0, 105.0, 220.0, 350.0, 40.0, 140.0, 205.0, 240.0, 370.0, 290.0, 235.0, 25.0, 190.0, 280.0, 190.0, 560.0, 95.0, 235.0, 315.0, 410.0, 300.0, 115.0, 140.0, 130.0, 170.0, 155.0, 210.0, 345.0, 185.0, 660.0, 200.0, 170.0, 515.0, 190.0, 260.0, 225.0, 230.0, 535.0, 100.0, 235.0, 200.0, 290.0, 245.0, 180.0, 120.0, 245.0, 110.0, 50.0, 235.0, 445.0, 185.0, 275.0, 135.0, 155.0, 195.0, 455.0, 145.0, 110.0, 175.0, 260.0, 145.0, 265.0, 160.0, 115.0, 135.0, 220.0, 155.0, 125.0, 215.0, 250.0, 155.0, 245.0, 670.0, 175.0, 75.0, 105.0, 205.0, 210.0, 260.0, 120.0, 215.0, 60.0, 115.0, 250.0, 130.0, 230.0, 45.0, 450.0, 75.0, 135.0, 210.0, 105.0, 230.0, 165.0, 75.0, 75.0, 110.0, 345.0, 285.0, 175.0, 145.0, 75.0, 175.0, 80.0, 115.0, 215.0, 310.0, 345.0, 320.0, 125.0, 75.0, 125.0, 225.0, 50.0, 130.0, 505.0, 105.0, 25.0, 160.0, 200.0, 260.0, 105.0, 270.0, 345.0, 80.0, 50.0, 110.0, 105.0, 60.0, 160.0, 195.0, 35.0, 130.0, 310.0, 55.0, 200.0, 255.0, 135.0, 105.0, 75.0, 110.0, 120.0, 235.0, 185.0, 205.0, 105.0, 115.0, 170.0, 120.0, 135.0, 205.0, 85.0, 50.0, 250.0, 265.0, 155.0, 110.0, 465.0, 315.0, 170.0, 110.0, 215.0, 140.0, 380.0, 410.0, 75.0, 60.0, 355.0, 205.0, 210.0, 445.0, 125.0, 210.0, 270.0, 210.0, 165.0, 250.0, 125.0, 425.0, 145.0, 155.0, 105.0, 60.0, 55.0, 210.0, 580.0, 180.0, 75.0, 430.0, 75.0, 220.0, 75.0, 290.0, 105.0, 270.0, 80.0, 75.0, 55.0, 350.0, 80.0, 50.0, 125.0, 120.0, 135.0, 260.0, 125.0, 375.0, 220.0, 275.0, 110.0, 75.0, 105.0, 415.0, 175.0, 190.0, 285.0, 105.0, 210.0, 120.0, 95.0, 90.0, 110.0, 300.0, 230.0, 230.0, 100.0, 425.0, 420.0, 340.0, 340.0, 75.0, 105.0, 415.0, 160.0, 465.0, 395.0, 185.0, 65.0, 155.0, 110.0, 150.0, 105.0, 250.0, 75.0, 105.0, 215.0, 215.0, 150.0, 105.0, 65.0, 90.0, 105.0, 175.0, 410.0, 255.0, 105.0, 270.0, 75.0, 210.0, 75.0, 210.0, 45.0, 270.0, 470.0, 155.0, 75.0, 205.0, 345.0, 105.0, 275.0, 180.0, 80.0, 75.0, 360.0, 235.0, 105.0, 385.0, 35.0, 210.0, 75.0, 255.0, 150.0, 340.0, 55.0, 185.0, 250.0, 210.0, 75.0, 90.0, 215.0, 190.0, 105.0, 315.0, 190.0, 75.0, 380.0, 170.0, 410.0, 110.0, 410.0, 105.0, 115.0, 255.0, 100.0, 215.0, 110.0, 55.0, 105.0, 260.0, 315.0, 355.0, 150.0, 30.0, 165.0, 495.0, 445.0, 135.0, 75.0, 60.0, 125.0, 125.0, 340.0, 620.0, 240.0, 340.0, 375.0, 155.0, 265.0, 430.0, 180.0, 80.0, 75.0, 545.0, 255.0, 75.0, 135.0, 155.0, 210.0, 110.0, 295.0, 280.0, 275.0, 130.0, 45.0, 80.0, 130.0, 75.0, 420.0, 405.0, 85.0, 145.0, 155.0, 125.0, 75.0, 520.0, 435.0, 300.0, 210.0, 185.0, 360.0, 120.0, 180.0, 265.0, 155.0, 265.0, 55.0, 115.0, 455.0, 155.0, 210.0, 110.0, 120.0, 105.0, 230.0, 225.0, 160.0, 350.0, 280.0, 195.0, 225.0, 95.0, 155.0, 110.0, 110.0, 140.0, 370.0, 95.0, 265.0, 365.0, 110.0, 190.0, 260.0, 130.0, 110.0, 215.0, 105.0, 265.0, 390.0, 85.0, 220.0, 575.0, 90.0, 210.0, 110.0, 140.0, 210.0, 55.0, 285.0, 135.0, 155.0, 250.0, 275.0, 435.0, 355.0, 240.0, 255.0, 365.0, 100.0, 305.0, 185.0, 100.0, 250.0, 450.0, 495.0, 505.0, 190.0, 260.0, 300.0, 180.0, 140.0, 120.0, 310.0, 255.0, 155.0, 210.0, 220.0, 415.0, 280.0, 305.0, 210.0, 280.0, 110.0, 250.0, 200.0, 120.0, 175.0, 205.0, 325.0, 120.0, 460.0, 235.0, 115.0, 175.0, 245.0, 95.0, 195.0, 415.0, 435.0, 140.0, 85.0, 155.0, 145.0]\n",
    "scores_4 = [210.0, 90.0, 120.0, 80.0, 160.0, 65.0, 105.0, 135.0, 210.0, 320.0, 135.0, 210.0, 305.0, 110.0, 110.0, 65.0, 215.0, 20.0, 135.0, 200.0, 140.0, 105.0, 345.0, 170.0, 180.0, 120.0, 215.0, 20.0, 185.0, 90.0, 165.0, 105.0, 210.0, 45.0, 245.0, 370.0, 110.0, 85.0, 60.0, 110.0, 65.0, 60.0, 30.0, 285.0, 155.0, 115.0, 215.0, 90.0, 90.0, 125.0, 210.0, 160.0, 320.0, 110.0, 85.0, 105.0, 140.0, 125.0, 350.0, 335.0, 165.0, 80.0, 405.0, 50.0, 35.0, 220.0, 55.0, 50.0, 30.0, 335.0, 285.0, 65.0, 125.0, 55.0, 90.0, 410.0, 335.0, 170.0, 60.0, 155.0, 235.0, 190.0, 525.0, 155.0, 120.0, 120.0, 160.0, 5.0, 170.0, 170.0, 125.0, 80.0, 330.0, 250.0, 300.0, 300.0, 240.0, 185.0, 185.0, 455.0, 175.0, 330.0, 185.0, 145.0, 180.0, 150.0, 175.0, 130.0, 140.0, 590.0, 185.0, 150.0, 255.0, 440.0, 225.0, 75.0, 45.0, 280.0, 580.0, 75.0, 70.0, 90.0, 220.0, 110.0, 140.0, 180.0, 520.0, 110.0, 100.0, 215.0, 125.0, 340.0, 75.0, 155.0, 430.0, 190.0, 225.0, 190.0, 20.0, 10.0, 75.0, 50.0, 225.0, 290.0, 45.0, 45.0, 170.0, 120.0, 315.0, 90.0, 30.0, 125.0, 155.0, 360.0, 60.0, 235.0, 105.0, 305.0, 260.0, 195.0, 125.0, 255.0, 180.0, 220.0, 105.0, 75.0, 575.0, 235.0, 225.0, 165.0, 20.0, 65.0, 50.0, 105.0, 60.0, 335.0, 135.0, 120.0, 180.0, 325.0, 160.0, 300.0, 190.0, 125.0, 205.0, 555.0, 45.0, 120.0, 185.0, 165.0, 500.0, 160.0, 105.0, 235.0, 105.0, 30.0, 305.0, 100.0, 310.0, 350.0, 105.0, 125.0, 90.0, 180.0, 50.0, 110.0, 105.0, 490.0, 220.0, 300.0, 505.0, 60.0, 375.0, 105.0, 175.0, 245.0, 110.0, 260.0, 70.0, 310.0, 140.0, 110.0, 285.0, 210.0, 340.0, 590.0, 50.0, 390.0, 210.0, 225.0, 30.0, 320.0, 445.0, 530.0, 60.0, 125.0, 55.0, 175.0, 460.0, 215.0, 110.0, 115.0, 140.0, 70.0, 120.0, 80.0, 55.0, 190.0, 185.0, 700.0, 50.0, 155.0, 185.0, 100.0, 195.0, 155.0, 260.0, 210.0, 60.0, 95.0, 160.0, 75.0, 745.0, 155.0, 110.0, 185.0, 35.0, 135.0, 230.0, 380.0, 75.0, 135.0, 475.0, 455.0, 210.0, 300.0, 180.0, 180.0, 185.0, 185.0, 50.0, 220.0, 115.0, 185.0, 245.0, 95.0, 180.0, 380.0, 210.0, 80.0, 270.0, 110.0, 250.0, 370.0, 50.0, 375.0, 135.0, 300.0, 75.0, 75.0, 200.0, 50.0, 230.0, 180.0, 240.0, 130.0, 30.0, 105.0, 125.0, 190.0, 520.0, 360.0, 270.0, 110.0, 345.0, 105.0, 80.0, 180.0, 85.0, 240.0, 105.0, 80.0, 140.0, 110.0, 80.0, 115.0, 80.0, 115.0, 165.0, 115.0, 245.0, 200.0, 420.0, 390.0, 210.0, 350.0, 75.0, 140.0, 120.0, 105.0, 90.0, 135.0, 240.0, 250.0, 120.0, 20.0, 190.0, 610.0, 50.0, 130.0, 25.0, 210.0, 110.0, 360.0, 240.0, 130.0, 165.0, 50.0, 205.0, 35.0, 115.0, 705.0, 420.0, 210.0, 135.0, 110.0, 155.0, 55.0, 240.0, 325.0, 380.0, 40.0, 140.0, 395.0, 165.0, 85.0, 475.0, 160.0, 160.0, 240.0, 160.0, 280.0, 130.0, 255.0, 155.0, 170.0, 105.0, 335.0, 365.0, 105.0, 105.0, 380.0, 280.0, 215.0, 115.0, 80.0, 180.0, 210.0, 730.0, 210.0, 300.0, 480.0, 55.0, 130.0, 210.0, 105.0, 300.0, 25.0, 155.0, 290.0, 215.0, 195.0, 110.0, 145.0, 205.0, 30.0, 565.0, 470.0, 230.0, 295.0, 140.0, 125.0, 105.0, 190.0, 75.0, 105.0, 80.0, 400.0, 160.0, 35.0, 250.0, 270.0, 195.0, 195.0, 440.0, 105.0, 75.0, 420.0, 155.0, 120.0, 265.0, 105.0, 105.0, 480.0, 155.0, 160.0, 480.0, 330.0, 45.0, 300.0, 625.0, 105.0, 180.0, 85.0, 495.0, 220.0, 165.0, 190.0, 100.0, 80.0, 80.0, 245.0, 115.0, 285.0, 145.0, 80.0, 80.0, 685.0, 325.0, 180.0, 265.0, 580.0, 300.0, 230.0, 315.0, 250.0, 365.0, 340.0, 195.0, 215.0, 470.0, 530.0, 75.0, 135.0, 165.0, 335.0, 145.0, 185.0, 15.0, 110.0, 180.0, 255.0, 425.0, 215.0, 115.0, 245.0, 120.0, 180.0, 360.0, 340.0, 200.0, 260.0, 530.0, 215.0, 245.0, 125.0, 410.0, 220.0, 225.0, 100.0, 275.0, 170.0, 125.0, 135.0, 170.0, 340.0, 490.0, 415.0, 250.0, 205.0, 100.0, 355.0, 120.0, 275.0, 180.0, 260.0, 165.0, 205.0, 300.0, 420.0, 200.0, 295.0, 230.0, 260.0, 75.0, 105.0, 275.0, 155.0, 240.0, 145.0, 65.0, 80.0, 75.0, 110.0, 190.0, 325.0, 355.0, 230.0, 120.0, 250.0, 265.0, 150.0, 110.0, 85.0, 145.0, 290.0, 260.0, 180.0, 190.0, 275.0, 380.0, 95.0, 225.0, 165.0, 140.0, 150.0, 165.0, 130.0, 215.0, 55.0, 725.0, 365.0, 190.0, 110.0, 55.0, 155.0, 160.0, 120.0, 295.0, 105.0, 150.0, 340.0, 195.0, 290.0, 60.0, 40.0, 90.0, 135.0, 90.0, 300.0, 165.0, 115.0, 110.0, 215.0, 415.0, 315.0, 135.0, 105.0, 255.0, 215.0, 185.0, 120.0, 395.0, 565.0, 475.0, 440.0, 155.0, 225.0, 85.0, 95.0, 240.0, 195.0, 140.0, 255.0, 540.0, 110.0, 230.0, 725.0, 245.0, 205.0, 245.0, 590.0, 145.0, 210.0, 170.0, 470.0, 150.0, 220.0, 310.0, 170.0, 160.0, 160.0, 700.0, 225.0, 335.0, 130.0, 225.0, 285.0, 360.0, 185.0, 130.0, 140.0, 490.0, 260.0, 205.0, 205.0, 140.0, 155.0, 225.0, 75.0, 195.0, 195.0, 230.0, 180.0, 185.0, 260.0, 335.0, 60.0, 265.0, 240.0, 165.0, 445.0, 215.0, 205.0, 475.0, 305.0, 135.0, 220.0, 170.0, 340.0, 55.0, 130.0, 110.0, 95.0, 80.0, 255.0, 95.0, 115.0, 565.0, 200.0, 165.0, 125.0, 55.0, 110.0, 490.0, 110.0, 320.0, 235.0, 130.0, 135.0, 180.0, 90.0, 280.0, 85.0, 220.0, 130.0, 530.0, 210.0, 50.0, 455.0, 300.0, 65.0, 130.0, 40.0, 150.0, 190.0, 730.0, 260.0, 400.0, 295.0, 210.0, 160.0, 205.0, 130.0, 235.0, 255.0, 165.0, 315.0, 125.0, 85.0, 200.0, 210.0, 335.0, 215.0, 105.0, 185.0, 110.0, 250.0, 515.0, 140.0, 255.0, 110.0, 155.0, 115.0, 195.0, 290.0, 135.0, 135.0, 105.0, 405.0, 120.0, 330.0, 45.0, 210.0, 140.0, 225.0, 140.0, 375.0, 400.0, 105.0, 110.0, 195.0, 110.0, 85.0, 80.0, 565.0, 205.0, 480.0, 55.0, 110.0, 140.0, 365.0, 110.0, 110.0, 285.0, 385.0, 155.0, 155.0, 105.0, 255.0, 205.0, 205.0, 280.0, 295.0, 245.0, 300.0, 135.0, 180.0, 120.0, 445.0, 15.0, 255.0, 135.0, 105.0, 190.0, 585.0, 305.0, 135.0, 105.0, 25.0, 270.0, 110.0, 155.0, 90.0, 270.0, 190.0, 210.0, 360.0, 160.0, 70.0, 150.0, 110.0, 150.0, 150.0, 265.0, 110.0, 250.0, 210.0, 15.0, 105.0, 335.0, 375.0, 50.0, 195.0, 85.0, 110.0, 375.0, 215.0, 200.0, 155.0, 110.0, 210.0, 180.0, 155.0, 155.0, 110.0, 80.0, 115.0, 285.0, 110.0, 285.0, 30.0, 185.0, 45.0, 40.0, 240.0, 120.0, 145.0, 95.0, 110.0, 355.0, 130.0, 100.0, 165.0, 190.0, 105.0, 55.0, 240.0, 185.0, 135.0, 190.0, 100.0, 185.0, 105.0, 310.0, 440.0, 330.0, 220.0, 205.0, 180.0, 320.0, 280.0, 45.0, 475.0, 160.0, 150.0, 345.0, 245.0, 85.0, 100.0, 140.0, 330.0, 70.0, 275.0, 165.0, 450.0, 85.0, 275.0, 210.0, 205.0, 20.0, 290.0, 200.0, 205.0, 130.0, 125.0, 50.0, 180.0, 185.0, 155.0, 265.0, 100.0, 190.0, 145.0, 135.0, 20.0, 50.0, 125.0, 415.0, 95.0, 90.0, 110.0, 160.0, 190.0, 250.0, 125.0, 80.0, 185.0, 155.0, 230.0, 585.0, 40.0, 130.0, 210.0, 185.0, 75.0, 80.0, 150.0, 250.0, 105.0, 195.0, 150.0, 320.0, 295.0, 70.0, 215.0, 230.0, 130.0, 265.0, 145.0, 85.0, 160.0, 140.0, 305.0, 330.0, 140.0, 185.0, 120.0, 185.0, 140.0, 195.0, 185.0, 90.0, 135.0, 100.0, 190.0, 220.0, 270.0, 230.0, 145.0, 140.0, 145.0, 170.0, 270.0, 315.0, 185.0, 205.0, 85.0, 30.0, 120.0, 150.0, 385.0, 195.0, 250.0, 25.0, 265.0, 245.0, 220.0, 250.0, 125.0, 45.0, 225.0, 110.0, 90.0, 210.0, 180.0, 285.0, 300.0, 135.0, 110.0, 260.0, 90.0, 610.0, 115.0, 150.0, 315.0, 245.0, 265.0, 195.0, 305.0, 95.0, 230.0, 165.0, 200.0, 95.0, 100.0, 180.0, 245.0, 165.0, 415.0]\n",
    "\n",
    "SCORES = scores+scores_3 + scores_4\n",
    "print(len(SCORES))\n",
    "Moyen_score = [np.mean(SCORES[i:(i+1)*10]) for i in range(int(np.floor(len(SCORES)/10))) for a in range(10)]"
   ]
  },
  {
   "cell_type": "code",
   "execution_count": null,
   "metadata": {},
   "outputs": [],
   "source": [
    "fig = plt.figure()\n",
    "ax = fig.add_subplot(111)\n",
    "#plt.plot(np.arange(len(scores)), scores)\n",
    "plt.plot(np.arange(len(SCORES)),Moyen_score)\n",
    "plt.ylabel('Score')\n",
    "plt.xlabel('Episode #')\n",
    "plt.show()\n",
    "            "
   ]
  },
  {
   "cell_type": "code",
   "execution_count": null,
   "metadata": {},
   "outputs": [],
   "source": []
  }
 ],
 "metadata": {
  "accelerator": "GPU",
  "colab": {
   "collapsed_sections": [],
   "name": "space_invader.ipynb",
   "provenance": [],
   "toc_visible": true
  },
  "kernelspec": {
   "display_name": "atari1.0_kernel",
   "language": "python",
   "name": "atari1.0"
  },
  "language_info": {
   "codemirror_mode": {
    "name": "ipython",
    "version": 3
   },
   "file_extension": ".py",
   "mimetype": "text/x-python",
   "name": "python",
   "nbconvert_exporter": "python",
   "pygments_lexer": "ipython3",
   "version": "3.7.11"
  }
 },
 "nbformat": 4,
 "nbformat_minor": 4
}
