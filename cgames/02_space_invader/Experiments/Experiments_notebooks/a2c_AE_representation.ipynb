{
 "cells": [
  {
   "cell_type": "code",
   "execution_count": 1,
   "metadata": {},
   "outputs": [
    {
     "name": "stderr",
     "output_type": "stream",
     "text": [
      "/opt/anaconda3/envs/atari1.0/lib/python3.7/site-packages/ale_py/roms/utils.py:90: DeprecationWarning: SelectableGroups dict interface is deprecated. Use select.\n",
      "  for external in metadata.entry_points().get(self.group, []):\n"
     ]
    },
    {
     "name": "stdout",
     "output_type": "stream",
     "text": [
      "Device:  cpu\n"
     ]
    }
   ],
   "source": [
    "import time\n",
    "import gym\n",
    "import random\n",
    "import torch\n",
    "import numpy as np\n",
    "from collections import deque\n",
    "import matplotlib.pyplot as plt\n",
    "import math\n",
    "import sys\n",
    "import os\n",
    "sys.path.append(\"/Users/charlottebeylier/Documents/PhD/Atari1.0/Reinforcement-Learning_modif/cgames/02_space_invader/Experiments/Analysis\")\n",
    "from Generate_data_activity import Generate_data\n",
    "from Manifold_Analysis import Manifold_analysis\n",
    "from CCA_analysis import CCA_Analysis\n",
    "sys.path.append(\"/Users/charlottebeylier/Documents/PhD/Atari1.0/Reinforcement-Learning_modif\")\n",
    "\n",
    "from algos.agents import A2CAgent\n",
    "from algos.models import ActorCnn, CriticCnn\n",
    "from algos.preprocessing.stack_frame import preprocess_frame, stack_frame\n",
    "\n",
    "# importing required libraries\n",
    "from mpl_toolkits.mplot3d import Axes3D\n",
    "from sklearn.preprocessing import scale\n",
    "from sklearn.decomposition import PCA, IncrementalPCA\n",
    "from sklearn.cross_decomposition import CCA\n",
    "import pandas as pd\n",
    "import seaborn as sns\n",
    "import cv2\n",
    "from tabulate import tabulate\n",
    "from mpl_toolkits.mplot3d.proj3d import proj_transform\n",
    "from matplotlib.text import Annotation\n",
    "import matplotlib.pyplot as plt    \n",
    "from mpl_toolkits.mplot3d import axes3d\n",
    "from mpl_toolkits.mplot3d.art3d import Line3DCollection\n",
    "import warnings\n",
    "from scipy.sparse import (spdiags, SparseEfficiencyWarning, csc_matrix,\n",
    "    csr_matrix, isspmatrix, dok_matrix, lil_matrix, bsr_matrix)\n",
    "warnings.simplefilter('ignore',SparseEfficiencyWarning)\n",
    "\n",
    "import warnings\n",
    "warnings.filterwarnings(\"ignore\")\n",
    "\n",
    "device = torch.device(\"cuda\" if torch.cuda.is_available() else \"cpu\")\n",
    "print(\"Device: \", device)"
   ]
  },
  {
   "cell_type": "markdown",
   "metadata": {},
   "source": [
    "# Generate DATA"
   ]
  },
  {
   "cell_type": "code",
   "execution_count": 2,
   "metadata": {},
   "outputs": [
    {
     "name": "stderr",
     "output_type": "stream",
     "text": [
      "A.L.E: Arcade Learning Environment (version +978d2ce)\n",
      "[Powered by Stella]\n"
     ]
    },
    {
     "name": "stdout",
     "output_type": "stream",
     "text": [
      "Names_hook ['Conv_1', 'Conv_2', 'Conv_3', 'fc1', 'Conv_1_bis', 'Conv_2_bis', 'Conv_3_bis', 'fc1_bis']\n",
      "/Users/charlottebeylier/Documents/PhD/Atari1.0/Reinforcement-Learning_modif/cgames/02_space_invader/Experiments/Trained_Models/Models_training_a2c_AE_space_invader/agent_a2c_AE_1000.pt\n"
     ]
    },
    {
     "name": "stderr",
     "output_type": "stream",
     "text": [
      "[W NNPACK.cpp:80] Could not initialize NNPACK! Reason: Unsupported hardware.\n"
     ]
    },
    {
     "name": "stdout",
     "output_type": "stream",
     "text": [
      "\n",
      "Episode :0 \tAgent number :0 \tFinal score: 100.00 \tNumber of steps: 469\n",
      "Episode :0 \tAgent number :0 \tFinal score: 310.00 \tNumber of steps: 961\n",
      "Episode :1 \tAgent number :0 \tFinal score: 55.00 \tNumber of steps: 442\n",
      "Episode :1 \tAgent number :0 \tFinal score: 565.00 \tNumber of steps: 1080\n",
      "Episode :2 \tAgent number :0 \tFinal score: 210.00 \tNumber of steps: 788\n",
      "Episode :3 \tAgent number :0 \tFinal score: 50.00 \tNumber of steps: 571\n",
      "Episode :4 \tAgent number :0 \tFinal score: 90.00 \tNumber of steps: 534\n",
      "Episode :5 \tAgent number :0 \tFinal score: 380.00 \tNumber of steps: 1022\n",
      "Episode :6 \tAgent number :0 \tFinal score: 60.00 \tNumber of steps: 436\n",
      "Episode :6 \tAgent number :0 \tFinal score: 235.00 \tNumber of steps: 1121\n",
      "Episode :7 \tAgent number :0 \tFinal score: 20.00 \tNumber of steps: 369\n",
      "Episode :7 \tAgent number :0 \tFinal score: 55.00 \tNumber of steps: 615\n",
      "Episode :8 \tAgent number :0 \tFinal score: 325.00 \tNumber of steps: 843\n",
      "Episode :9 \tAgent number :0 \tFinal score: 155.00 \tNumber of steps: 709"
     ]
    }
   ],
   "source": [
    "LENGTH_TRIAL = 500\n",
    "EPISODES = 10\n",
    "\n",
    "\n",
    "Generate_DATA = Generate_data(device)\n",
    "Liste_activation,Final_score,Liste_position_agent,Liste_position_alien,Liste_action_agent= Generate_DATA.run_episodes(structure_network = \"a2c_AE\",length_trial = LENGTH_TRIAL,number_episode = EPISODES)"
   ]
  },
  {
   "cell_type": "code",
   "execution_count": 4,
   "metadata": {},
   "outputs": [
    {
     "name": "stdout",
     "output_type": "stream",
     "text": [
      "0\n"
     ]
    }
   ],
   "source": [
    "Names_hook = [\"Conv_1\",\"Conv_2\",\"Conv_3\",\"fc1\",\"Conv_1_bis\",\"Conv_2_bis\",\"Conv_3_bis\",\"fc1_bis\"]\n",
    "analysis = Manifold_analysis(LENGTH_TRIAL)\n",
    "Prepro_length = True\n",
    "activity_layer = [[[[] for i in range(len(Names_hook))] for j in range(1)] for episode in range(EPISODES)]\n",
    "\n",
    "for agent_number in range(1):\n",
    "    print(agent_number)\n",
    "    for layer in range(len(Names_hook)):\n",
    "        for episode in range(EPISODES):\n",
    "            activity_layer[episode][agent_number][layer] = analysis.prepro(Liste_activation[episode][agent_number][layer],Prepro_length)"
   ]
  },
  {
   "cell_type": "code",
   "execution_count": 5,
   "metadata": {},
   "outputs": [],
   "source": [
    "episode = 0\n",
    "agent = 5\n",
    "layer = 2"
   ]
  },
  {
   "cell_type": "code",
   "execution_count": 40,
   "metadata": {},
   "outputs": [],
   "source": [
    "X = activity_layer[episode][agent_number][0]\n",
    "pca = PCA(n_components = 5) #we have 20 features\n",
    "X_tr = pca.fit(X).transform(X)"
   ]
  },
  {
   "cell_type": "code",
   "execution_count": 30,
   "metadata": {},
   "outputs": [
    {
     "name": "stdout",
     "output_type": "stream",
     "text": [
      "(500, 12800)\n",
      "(500, 5)\n"
     ]
    }
   ],
   "source": [
    "print(X.shape)\n",
    "print(X_tr.shape)"
   ]
  },
  {
   "cell_type": "code",
   "execution_count": 38,
   "metadata": {},
   "outputs": [
    {
     "data": {
      "text/plain": [
       "<matplotlib.collections.PathCollection at 0x7fc9bf930350>"
      ]
     },
     "execution_count": 38,
     "metadata": {},
     "output_type": "execute_result"
    },
    {
     "data": {
      "image/png": "[encoded data removed]",
      "text/plain": [
       "<Figure size 432x288 with 1 Axes>"
      ]
     },
     "metadata": {
      "needs_background": "light"
     },
     "output_type": "display_data"
    }
   ],
   "source": [
    "plt.figure()\n",
    "plt.scatter(X_tr[:,0],X_tr[:,4])"
   ]
  },
  {
   "cell_type": "code",
   "execution_count": 41,
   "metadata": {},
   "outputs": [
    {
     "data": {
      "text/plain": [
       "(500, 2)"
      ]
     },
     "execution_count": 41,
     "metadata": {},
     "output_type": "execute_result"
    }
   ],
   "source": [
    "from sklearn.manifold import TSNE\n",
    "X_embedded = TSNE(n_components=2, learning_rate='auto',init='random').fit_transform(X)\n",
    "X_embedded.shape"
   ]
  },
  {
   "cell_type": "code",
   "execution_count": 43,
   "metadata": {},
   "outputs": [
    {
     "data": {
      "text/plain": [
       "<matplotlib.collections.PathCollection at 0x7fcaac7e0dd0>"
      ]
     },
     "execution_count": 43,
     "metadata": {},
     "output_type": "execute_result"
    },
    {
     "data": {
      "image/png": "[encoded data removed]",
      "text/plain": [
       "<Figure size 432x288 with 1 Axes>"
      ]
     },
     "metadata": {
      "needs_background": "light"
     },
     "output_type": "display_data"
    }
   ],
   "source": [
    "plt.figure()\n",
    "plt.scatter(X_embedded[:,0],X_embedded[:,1])"
   ]
  },
  {
   "cell_type": "code",
   "execution_count": null,
   "metadata": {},
   "outputs": [],
   "source": []
  }
 ],
 "metadata": {
  "interpreter": {
   "hash": "3cd8fba5e2a7e5201efd12f596ba02da03390e92eb7b5a4f25cd4f2446eed5e6"
  },
  "kernelspec": {
   "display_name": "Python 3",
   "language": "python",
   "name": "python3"
  },
  "language_info": {
   "codemirror_mode": {
    "name": "ipython",
    "version": 3
   },
   "file_extension": ".py",
   "mimetype": "text/x-python",
   "name": "python",
   "nbconvert_exporter": "python",
   "pygments_lexer": "ipython3",
   "version": "3.8.8"
  }
 },
 "nbformat": 4,
 "nbformat_minor": 2
}
